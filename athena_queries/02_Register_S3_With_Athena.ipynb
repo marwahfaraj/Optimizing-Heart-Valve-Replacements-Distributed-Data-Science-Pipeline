{
 "cells": [
  {
   "cell_type": "markdown",
   "metadata": {},
   "source": [
    "# Register cardio_train and quitline_services Data With Athena\n",
    "This will create an Athena table in the Glue Catalog (Hive Metastore)."
   ]
  },
  {
   "cell_type": "code",
   "execution_count": 1,
   "metadata": {},
   "outputs": [
    {
     "name": "stderr",
     "output_type": "stream",
     "text": [
      "/opt/conda/lib/python3.11/site-packages/pydantic/_internal/_fields.py:192: UserWarning: Field name \"json\" in \"MonitoringDatasetFormat\" shadows an attribute in parent \"Base\"\n",
      "  warnings.warn(\n"
     ]
    },
    {
     "name": "stdout",
     "output_type": "stream",
     "text": [
      "sagemaker.config INFO - Not applying SDK defaults from location: /etc/xdg/sagemaker/config.yaml\n",
      "sagemaker.config INFO - Not applying SDK defaults from location: /home/sagemaker-user/.config/sagemaker/config.yaml\n"
     ]
    }
   ],
   "source": [
    "import boto3\n",
    "import sagemaker\n",
    "import pandas as pd\n",
    "\n",
    "# Initialize SageMaker session\n",
    "sess = sagemaker.Session()\n",
    "bucket = \"cardiovale-solutions-datascience-pipeline\"  # Set your S3 bucket name\n",
    "role = sagemaker.get_execution_role()\n",
    "region = boto3.Session().region_name"
   ]
  },
  {
   "cell_type": "code",
   "execution_count": 2,
   "metadata": {},
   "outputs": [],
   "source": [
    "ingest_create_athena_table_cardio_passed = False"
   ]
  },
  {
   "cell_type": "markdown",
   "metadata": {},
   "source": [
    "# Import PyAthena"
   ]
  },
  {
   "cell_type": "code",
   "execution_count": 3,
   "metadata": {},
   "outputs": [],
   "source": [
    "from pyathena import connect"
   ]
  },
  {
   "cell_type": "markdown",
   "metadata": {},
   "source": [
    "# Create Athena Table from Local cardio_train-checkpoint.csv and Quitline_Services_Available_Medications.csv Files"
   ]
  },
  {
   "cell_type": "code",
   "execution_count": 4,
   "metadata": {},
   "outputs": [
    {
     "name": "stdout",
     "output_type": "stream",
     "text": [
      "2025-04-01 02:01:41 cardiovale-solutions-datascience-pipeline\n",
      "2025-04-01 02:01:16 cardiovale-solutions-datascience-pipelines\n",
      "2025-03-29 23:53:08 sagemaker-studio-i6qdv575kym\n",
      "2025-03-29 23:53:10 sagemaker-us-east-1-424808199142\n"
     ]
    }
   ],
   "source": [
    "!aws s3 ls --recursive $s3_private_path_tsv"
   ]
  },
  {
   "cell_type": "code",
   "execution_count": 5,
   "metadata": {},
   "outputs": [],
   "source": [
    "s3_private_path_cardio = \"s3://cardiovale-solutions-datascience-pipeline/raw-data/cardio_train/\"\n",
    "s3_private_path_quitline = \"s3://cardiovale-solutions-datascience-pipeline/raw-data/quitline_services/\"\n"
   ]
  },
  {
   "cell_type": "code",
   "execution_count": 6,
   "metadata": {},
   "outputs": [
    {
     "name": "stdout",
     "output_type": "stream",
     "text": [
      "2025-04-01 02:01:41 cardiovale-solutions-datascience-pipeline\n",
      "2025-04-01 02:01:16 cardiovale-solutions-datascience-pipelines\n",
      "2025-03-29 23:53:08 sagemaker-studio-i6qdv575kym\n",
      "2025-03-29 23:53:10 sagemaker-us-east-1-424808199142\n"
     ]
    }
   ],
   "source": [
    "!aws s3 ls $s3_private_path_tsv --recursive\n"
   ]
  },
  {
   "cell_type": "code",
   "execution_count": 7,
   "metadata": {},
   "outputs": [],
   "source": [
    "# Set S3 staging directory\n",
    "s3_staging_dir = \"s3://cardiovale-solutions-datascience-pipeline/athena/staging/\""
   ]
  },
  {
   "cell_type": "code",
   "execution_count": 8,
   "metadata": {},
   "outputs": [],
   "source": [
    "conn = connect(region_name=region, s3_staging_dir=s3_staging_dir)"
   ]
  },
  {
   "cell_type": "code",
   "execution_count": 9,
   "metadata": {},
   "outputs": [
    {
     "name": "stderr",
     "output_type": "stream",
     "text": [
      "/tmp/ipykernel_1579/3221176216.py:5: UserWarning: pandas only supports SQLAlchemy connectable (engine/connection) or database string URI or sqlite3 DBAPI2 connection. Other DBAPI2 objects are not tested. Please consider using SQLAlchemy.\n",
      "  pd.read_sql(statement, conn)\n"
     ]
    },
    {
     "data": {
      "text/html": [
       "<div>\n",
       "<style scoped>\n",
       "    .dataframe tbody tr th:only-of-type {\n",
       "        vertical-align: middle;\n",
       "    }\n",
       "\n",
       "    .dataframe tbody tr th {\n",
       "        vertical-align: top;\n",
       "    }\n",
       "\n",
       "    .dataframe thead th {\n",
       "        text-align: right;\n",
       "    }\n",
       "</style>\n",
       "<table border=\"1\" class=\"dataframe\">\n",
       "  <thead>\n",
       "    <tr style=\"text-align: right;\">\n",
       "      <th></th>\n",
       "    </tr>\n",
       "  </thead>\n",
       "  <tbody>\n",
       "  </tbody>\n",
       "</table>\n",
       "</div>"
      ],
      "text/plain": [
       "Empty DataFrame\n",
       "Columns: []\n",
       "Index: []"
      ]
     },
     "execution_count": 9,
     "metadata": {},
     "output_type": "execute_result"
    }
   ],
   "source": [
    "# Define SQL statement to drop table\n",
    "# statement = \"DROP TABLE IF EXISTS cardiovale_db.cardio_train;\"\n",
    "statement = \"DROP TABLE IF EXISTS cardiovale_db.quitline_services;\"\n",
    "\n",
    "pd.read_sql(statement, conn)"
   ]
  },
  {
   "cell_type": "code",
   "execution_count": 10,
   "metadata": {},
   "outputs": [
    {
     "name": "stdout",
     "output_type": "stream",
     "text": [
      "2025-04-01 02:13:07    2941524 raw-data/cardio_train/cardio_train.csv\n",
      "2025-04-01 02:13:09    6934258 raw-data/quitline_services/Quitline___Services_Available___Medications_-_2010_To_Present_20250306.csv\n"
     ]
    }
   ],
   "source": [
    "!aws s3 ls s3://cardiovale-solutions-datascience-pipeline/raw-data/ --recursive\n"
   ]
  },
  {
   "cell_type": "code",
   "execution_count": 11,
   "metadata": {},
   "outputs": [
    {
     "name": "stdout",
     "output_type": "stream",
     "text": [
      "total 45M\n",
      "drwxr-xr-x  3 sagemaker-user users 4.0K Mar 30 06:11 \u001b[0m\u001b[01;34m.\u001b[0m/\n",
      "drwxr-xr-x 10 sagemaker-user users  188 Mar 30 06:11 \u001b[01;34m..\u001b[0m/\n",
      "drwxr-xr-x  2 sagemaker-user users  174 Mar 30 06:11 \u001b[01;34m.ipynb_checkpoints\u001b[0m/\n",
      "-rw-r--r--  1 sagemaker-user users 6.7M Mar 30 00:24 Quitline___Services_Available___Medications_-_2010_To_Present_20250306.csv\n",
      "-rw-r--r--  1 sagemaker-user users 5.7M Mar 30 06:11 autopilot_input.csv\n",
      "-rw-r--r--  1 sagemaker-user users 2.9M Mar 30 00:24 cardio_train.csv\n",
      "-rw-r--r--  1 sagemaker-user users 2.9M Mar 30 00:24 cardio_train_cleaned.csv\n",
      "-rw-r--r--  1 sagemaker-user users 2.9M Mar 30 00:24 cardio_train_fixed.csv\n",
      "-rw-r--r--  1 sagemaker-user users 2.9M Mar 30 00:24 processed_cardio_train.csv\n",
      "-rw-r--r--  1 sagemaker-user users 6.7M Mar 30 00:24 processed_quitline_services.csv\n",
      "-rw-r--r--  1 sagemaker-user users 7.4M Mar 30 00:24 quitline_fixed.csv\n",
      "-rw-r--r--  1 sagemaker-user users 6.7M Mar 30 00:24 quitline_services.csv\n"
     ]
    }
   ],
   "source": [
    "ls -lah /home/sagemaker-user/ads-508-team/data/\n"
   ]
  },
  {
   "cell_type": "markdown",
   "metadata": {},
   "source": [
    "## Using panda to process the data before athena"
   ]
  },
  {
   "cell_type": "code",
   "execution_count": 12,
   "metadata": {},
   "outputs": [
    {
     "name": "stdout",
     "output_type": "stream",
     "text": [
      "CSV successfully converted to comma-separated format!\n"
     ]
    }
   ],
   "source": [
    "import pandas as pd\n",
    "\n",
    "# Load the dataset with semicolon separator\n",
    "file_path = \"/home/sagemaker-user/ads-508-team/data/cardio_train_fixed.csv\"\n",
    "df = pd.read_csv(file_path, sep=\";\")\n",
    "\n",
    "# Save as a comma-separated CSV\n",
    "fixed_file_path = \"/home/sagemaker-user/ads-508-team/data/cardio_train_cleaned.csv\"\n",
    "df.to_csv(fixed_file_path, sep=\",\", index=False)\n",
    "\n",
    "print(\"CSV successfully converted to comma-separated format!\")\n"
   ]
  },
  {
   "cell_type": "code",
   "execution_count": 13,
   "metadata": {},
   "outputs": [
    {
     "name": "stdout",
     "output_type": "stream",
     "text": [
      "Successfully cleaned and saved CSV without quotes!\n"
     ]
    }
   ],
   "source": [
    "import pandas as pd\n",
    "\n",
    "# Load the dataset (already comma-separated)\n",
    "file_path = \"/home/sagemaker-user/ads-508-team/data/cardio_train_fixed.csv\"\n",
    "df = pd.read_csv(file_path, sep=\",\")\n",
    "\n",
    "# Save without extra quotes\n",
    "fixed_file_path = \"/home/sagemaker-user/ads-508-team/data/cardio_train_cleaned.csv\"\n",
    "df.to_csv(fixed_file_path, sep=\",\", index=False, quoting=3)  # quoting=3 -> No extra quotes\n",
    "\n",
    "print(\"Successfully cleaned and saved CSV without quotes!\")\n"
   ]
  },
  {
   "cell_type": "code",
   "execution_count": 14,
   "metadata": {},
   "outputs": [
    {
     "name": "stdout",
     "output_type": "stream",
     "text": [
      "upload: ../data/cardio_train_cleaned.csv to s3://cardiovale-solutions-datascience-pipeline/raw-data/cardio_train_cleaned/cardio_train_cleaned.csv\n"
     ]
    }
   ],
   "source": [
    "!aws s3 cp /home/sagemaker-user/ads-508-team/data/cardio_train_cleaned.csv s3://cardiovale-solutions-datascience-pipeline/raw-data/cardio_train_cleaned/\n"
   ]
  },
  {
   "cell_type": "code",
   "execution_count": 15,
   "metadata": {},
   "outputs": [
    {
     "name": "stderr",
     "output_type": "stream",
     "text": [
      "/tmp/ipykernel_1579/2202486819.py:5: UserWarning: pandas only supports SQLAlchemy connectable (engine/connection) or database string URI or sqlite3 DBAPI2 connection. Other DBAPI2 objects are not tested. Please consider using SQLAlchemy.\n",
      "  pd.read_sql(statement, conn)\n"
     ]
    },
    {
     "data": {
      "text/html": [
       "<div>\n",
       "<style scoped>\n",
       "    .dataframe tbody tr th:only-of-type {\n",
       "        vertical-align: middle;\n",
       "    }\n",
       "\n",
       "    .dataframe tbody tr th {\n",
       "        vertical-align: top;\n",
       "    }\n",
       "\n",
       "    .dataframe thead th {\n",
       "        text-align: right;\n",
       "    }\n",
       "</style>\n",
       "<table border=\"1\" class=\"dataframe\">\n",
       "  <thead>\n",
       "    <tr style=\"text-align: right;\">\n",
       "      <th></th>\n",
       "    </tr>\n",
       "  </thead>\n",
       "  <tbody>\n",
       "  </tbody>\n",
       "</table>\n",
       "</div>"
      ],
      "text/plain": [
       "Empty DataFrame\n",
       "Columns: []\n",
       "Index: []"
      ]
     },
     "execution_count": 15,
     "metadata": {},
     "output_type": "execute_result"
    }
   ],
   "source": [
    "# Define SQL statement to drop table\n",
    "# statement = \"DROP TABLE IF EXISTS cardiovale_db.cardio_train;\"\n",
    "statement = \"DROP TABLE IF EXISTS cardiovale_db.cardio_train_cleaned;\"\n",
    "\n",
    "pd.read_sql(statement, conn)"
   ]
  },
  {
   "cell_type": "code",
   "execution_count": 16,
   "metadata": {},
   "outputs": [
    {
     "name": "stdout",
     "output_type": "stream",
     "text": [
      "2025-04-01 02:13:07    2941524 cardio_train.csv\n"
     ]
    }
   ],
   "source": [
    "!aws s3 ls s3://cardiovale-solutions-datascience-pipeline/raw-data/cardio_train/\n"
   ]
  },
  {
   "cell_type": "code",
   "execution_count": 17,
   "metadata": {},
   "outputs": [
    {
     "data": {
      "text/html": [
       "<div>\n",
       "<style scoped>\n",
       "    .dataframe tbody tr th:only-of-type {\n",
       "        vertical-align: middle;\n",
       "    }\n",
       "\n",
       "    .dataframe tbody tr th {\n",
       "        vertical-align: top;\n",
       "    }\n",
       "\n",
       "    .dataframe thead th {\n",
       "        text-align: right;\n",
       "    }\n",
       "</style>\n",
       "<table border=\"1\" class=\"dataframe\">\n",
       "  <thead>\n",
       "    <tr style=\"text-align: right;\">\n",
       "      <th></th>\n",
       "      <th>Year</th>\n",
       "      <th>Date</th>\n",
       "      <th>Date_Ref</th>\n",
       "      <th>LocationAbbr</th>\n",
       "      <th>LocationDesc</th>\n",
       "      <th>TopicType</th>\n",
       "      <th>TopicDesc</th>\n",
       "      <th>MeasureDesc</th>\n",
       "      <th>Sub-Measure</th>\n",
       "      <th>Variable</th>\n",
       "      <th>...</th>\n",
       "      <th>Number_of_Weeks_Offered</th>\n",
       "      <th>Limit_Per_Year</th>\n",
       "      <th>Comments</th>\n",
       "      <th>GeoLocation</th>\n",
       "      <th>TopicTypeId</th>\n",
       "      <th>TopicId</th>\n",
       "      <th>MeasureID</th>\n",
       "      <th>SOURCE</th>\n",
       "      <th>SubMeasureID</th>\n",
       "      <th>DisplayOrder</th>\n",
       "    </tr>\n",
       "  </thead>\n",
       "  <tbody>\n",
       "    <tr>\n",
       "      <th>5343</th>\n",
       "      <td>2017</td>\n",
       "      <td>1</td>\n",
       "      <td>Jan-Mar</td>\n",
       "      <td>TX</td>\n",
       "      <td>Texas</td>\n",
       "      <td>Quitline</td>\n",
       "      <td>Services Available</td>\n",
       "      <td>Medications</td>\n",
       "      <td>Nicotine Inhaler</td>\n",
       "      <td>NaN</td>\n",
       "      <td>...</td>\n",
       "      <td>NaN</td>\n",
       "      <td>NaN</td>\n",
       "      <td>NaN</td>\n",
       "      <td>(31.827240407000488, -99.42677020599967)</td>\n",
       "      <td>QUI</td>\n",
       "      <td>900QUI</td>\n",
       "      <td>912MED</td>\n",
       "      <td>National Quitline Data Warehouse, Office on Sm...</td>\n",
       "      <td>QUT09</td>\n",
       "      <td>9</td>\n",
       "    </tr>\n",
       "    <tr>\n",
       "      <th>5197</th>\n",
       "      <td>2015</td>\n",
       "      <td>1</td>\n",
       "      <td>Jan-Mar</td>\n",
       "      <td>IL</td>\n",
       "      <td>Illinois</td>\n",
       "      <td>Quitline</td>\n",
       "      <td>Services Available</td>\n",
       "      <td>Medications</td>\n",
       "      <td>Nicotine Patch</td>\n",
       "      <td>Underinsured</td>\n",
       "      <td>...</td>\n",
       "      <td>6.0</td>\n",
       "      <td>1 time per year</td>\n",
       "      <td>Increased from 2 weeks to 6 weeks on 11/1/2014</td>\n",
       "      <td>(40.48501028300046, -88.99771017799969)</td>\n",
       "      <td>QUI</td>\n",
       "      <td>900QUI</td>\n",
       "      <td>912MED</td>\n",
       "      <td>National Quitline Data Warehouse, Office on Sm...</td>\n",
       "      <td>QUT05</td>\n",
       "      <td>5</td>\n",
       "    </tr>\n",
       "    <tr>\n",
       "      <th>1488</th>\n",
       "      <td>2014</td>\n",
       "      <td>4</td>\n",
       "      <td>Oct-Dec</td>\n",
       "      <td>LA</td>\n",
       "      <td>Louisiana</td>\n",
       "      <td>Quitline</td>\n",
       "      <td>Services Available</td>\n",
       "      <td>Medications</td>\n",
       "      <td>Nicotine Patch</td>\n",
       "      <td>All Eligible Callers</td>\n",
       "      <td>...</td>\n",
       "      <td>2.0</td>\n",
       "      <td>1 time per year</td>\n",
       "      <td>NaN</td>\n",
       "      <td>(31.31266064400046, -92.44568007099969)</td>\n",
       "      <td>QUI</td>\n",
       "      <td>900QUI</td>\n",
       "      <td>912MED</td>\n",
       "      <td>National Quitline Data Warehouse, Office on Sm...</td>\n",
       "      <td>QUT05</td>\n",
       "      <td>5</td>\n",
       "    </tr>\n",
       "    <tr>\n",
       "      <th>2997</th>\n",
       "      <td>2019</td>\n",
       "      <td>6</td>\n",
       "      <td>Jan-Jun</td>\n",
       "      <td>UT</td>\n",
       "      <td>Utah</td>\n",
       "      <td>Quitline</td>\n",
       "      <td>Services Available</td>\n",
       "      <td>Medications</td>\n",
       "      <td>Nicotine Gum</td>\n",
       "      <td>All Eligible Callers</td>\n",
       "      <td>...</td>\n",
       "      <td>8.0</td>\n",
       "      <td>2 times per year</td>\n",
       "      <td>NaN</td>\n",
       "      <td>(39.360700171000474, -111.58713063499971)</td>\n",
       "      <td>QUI</td>\n",
       "      <td>900QUI</td>\n",
       "      <td>912MED</td>\n",
       "      <td>National Quitline Data Warehouse, Office on Sm...</td>\n",
       "      <td>QUT06</td>\n",
       "      <td>6</td>\n",
       "    </tr>\n",
       "    <tr>\n",
       "      <th>13495</th>\n",
       "      <td>2013</td>\n",
       "      <td>3</td>\n",
       "      <td>Jul-Sep</td>\n",
       "      <td>PR</td>\n",
       "      <td>Puerto Rico</td>\n",
       "      <td>Quitline</td>\n",
       "      <td>Services Available</td>\n",
       "      <td>Medications</td>\n",
       "      <td>Nicotine Inhaler</td>\n",
       "      <td>NaN</td>\n",
       "      <td>...</td>\n",
       "      <td>NaN</td>\n",
       "      <td>NaN</td>\n",
       "      <td>NaN</td>\n",
       "      <td>(18.220833, -66.590149)</td>\n",
       "      <td>QUI</td>\n",
       "      <td>900QUI</td>\n",
       "      <td>912MED</td>\n",
       "      <td>National Quitline Data Warehouse, Office on Sm...</td>\n",
       "      <td>QUT09</td>\n",
       "      <td>9</td>\n",
       "    </tr>\n",
       "  </tbody>\n",
       "</table>\n",
       "<p>5 rows × 41 columns</p>\n",
       "</div>"
      ],
      "text/plain": [
       "       Year  Date Date_Ref LocationAbbr LocationDesc TopicType  \\\n",
       "5343   2017     1  Jan-Mar           TX        Texas  Quitline   \n",
       "5197   2015     1  Jan-Mar           IL     Illinois  Quitline   \n",
       "1488   2014     4  Oct-Dec           LA    Louisiana  Quitline   \n",
       "2997   2019     6  Jan-Jun           UT         Utah  Quitline   \n",
       "13495  2013     3  Jul-Sep           PR  Puerto Rico  Quitline   \n",
       "\n",
       "                TopicDesc  MeasureDesc       Sub-Measure  \\\n",
       "5343   Services Available  Medications  Nicotine Inhaler   \n",
       "5197   Services Available  Medications    Nicotine Patch   \n",
       "1488   Services Available  Medications    Nicotine Patch   \n",
       "2997   Services Available  Medications      Nicotine Gum   \n",
       "13495  Services Available  Medications  Nicotine Inhaler   \n",
       "\n",
       "                   Variable  ... Number_of_Weeks_Offered    Limit_Per_Year  \\\n",
       "5343                    NaN  ...                     NaN               NaN   \n",
       "5197           Underinsured  ...                     6.0   1 time per year   \n",
       "1488   All Eligible Callers  ...                     2.0   1 time per year   \n",
       "2997   All Eligible Callers  ...                     8.0  2 times per year   \n",
       "13495                   NaN  ...                     NaN               NaN   \n",
       "\n",
       "                                             Comments  \\\n",
       "5343                                              NaN   \n",
       "5197   Increased from 2 weeks to 6 weeks on 11/1/2014   \n",
       "1488                                              NaN   \n",
       "2997                                              NaN   \n",
       "13495                                             NaN   \n",
       "\n",
       "                                     GeoLocation TopicTypeId TopicId  \\\n",
       "5343    (31.827240407000488, -99.42677020599967)         QUI  900QUI   \n",
       "5197     (40.48501028300046, -88.99771017799969)         QUI  900QUI   \n",
       "1488     (31.31266064400046, -92.44568007099969)         QUI  900QUI   \n",
       "2997   (39.360700171000474, -111.58713063499971)         QUI  900QUI   \n",
       "13495                    (18.220833, -66.590149)         QUI  900QUI   \n",
       "\n",
       "      MeasureID                                             SOURCE  \\\n",
       "5343     912MED  National Quitline Data Warehouse, Office on Sm...   \n",
       "5197     912MED  National Quitline Data Warehouse, Office on Sm...   \n",
       "1488     912MED  National Quitline Data Warehouse, Office on Sm...   \n",
       "2997     912MED  National Quitline Data Warehouse, Office on Sm...   \n",
       "13495    912MED  National Quitline Data Warehouse, Office on Sm...   \n",
       "\n",
       "      SubMeasureID DisplayOrder  \n",
       "5343         QUT09            9  \n",
       "5197         QUT05            5  \n",
       "1488         QUT05            5  \n",
       "2997         QUT06            6  \n",
       "13495        QUT09            9  \n",
       "\n",
       "[5 rows x 41 columns]"
      ]
     },
     "execution_count": 17,
     "metadata": {},
     "output_type": "execute_result"
    }
   ],
   "source": [
    "# Use the absolute path\n",
    "file_path = \"/home/sagemaker-user/ads-508-team/data/quitline_services.csv\"\n",
    "\n",
    "# Load the dataset\n",
    "quitline_df = pd.read_csv(file_path)\n",
    "\n",
    "# Check for multi-line text issues\n",
    "quitline_df.sample(5)  # Random samples to look for line break issues\n"
   ]
  },
  {
   "cell_type": "code",
   "execution_count": 18,
   "metadata": {},
   "outputs": [
    {
     "name": "stdout",
     "output_type": "stream",
     "text": [
      "upload: ../data/quitline_fixed.csv to s3://cardiovale-solutions-datascience-pipeline/raw-data/quitline_services/quitline_fixed.csv\n"
     ]
    }
   ],
   "source": [
    "quitline_df = quitline_df.astype(str).apply(lambda x: x.str.replace(r'\\n', ' ', regex=True))\n",
    "quitline_df.to_csv(\"/home/sagemaker-user/ads-508-team/data/quitline_fixed.csv\", index=False, sep=\",\")\n",
    "!aws s3 cp /home/sagemaker-user/ads-508-team/data/quitline_fixed.csv s3://cardiovale-solutions-datascience-pipeline/raw-data/quitline_services/\n"
   ]
  },
  {
   "cell_type": "code",
   "execution_count": 19,
   "metadata": {},
   "outputs": [],
   "source": [
    "# Set Athena parameters\n",
    "database_name = \"cardiovale_db\"\n",
    "table_1_name = \"cardio_train_cleaned\"\n",
    "table_2_name = \"quitline_fixed\""
   ]
  },
  {
   "cell_type": "code",
   "execution_count": 20,
   "metadata": {},
   "outputs": [
    {
     "name": "stdout",
     "output_type": "stream",
     "text": [
      "CREATE EXTERNAL TABLE IF NOT EXISTS cardiovale_db.cardio_train_cleaned(\n",
      "         id INT,\n",
      "         age INT,\n",
      "         gender INT,\n",
      "         height INT,\n",
      "         weight FLOAT,\n",
      "         ap_hi INT,\n",
      "         ap_lo INT,\n",
      "         cholesterol INT,\n",
      "         gluc INT,\n",
      "         smoke INT,\n",
      "         alco INT,\n",
      "         active INT,\n",
      "         cardio INT\n",
      ") ROW FORMAT DELIMITED \n",
      "FIELDS TERMINATED BY ',' \n",
      "LINES TERMINATED BY '\\n' \n",
      "LOCATION 's3://cardiovale-solutions-datascience-pipeline/raw-data/cardio_train_cleaned/'\n",
      "TBLPROPERTIES ('skip.header.line.count'='1')\n"
     ]
    }
   ],
   "source": [
    "# Update Athena table to use cleaned CSV\n",
    "statement_cardio = \"\"\"CREATE EXTERNAL TABLE IF NOT EXISTS {}.{}(\n",
    "         id INT,\n",
    "         age INT,\n",
    "         gender INT,\n",
    "         height INT,\n",
    "         weight FLOAT,\n",
    "         ap_hi INT,\n",
    "         ap_lo INT,\n",
    "         cholesterol INT,\n",
    "         gluc INT,\n",
    "         smoke INT,\n",
    "         alco INT,\n",
    "         active INT,\n",
    "         cardio INT\n",
    ") ROW FORMAT DELIMITED \n",
    "FIELDS TERMINATED BY ',' \n",
    "LINES TERMINATED BY '\\\\n' \n",
    "LOCATION '{}'\n",
    "TBLPROPERTIES ('skip.header.line.count'='1')\"\"\".format(\n",
    "    database_name, \"cardio_train_cleaned\", \"s3://cardiovale-solutions-datascience-pipeline/raw-data/cardio_train_cleaned/\"\n",
    ")\n",
    "\n",
    "print(statement_cardio)\n"
   ]
  },
  {
   "cell_type": "code",
   "execution_count": 21,
   "metadata": {},
   "outputs": [
    {
     "name": "stdout",
     "output_type": "stream",
     "text": [
      "CREATE EXTERNAL TABLE IF NOT EXISTS cardiovale_db.quitline_fixed(\n",
      "         Year INT,\n",
      "         Date INT,\n",
      "         Date_Ref STRING,\n",
      "         LocationAbbr STRING,\n",
      "         LocationDesc STRING,\n",
      "         TopicType STRING,\n",
      "         TopicDesc STRING,\n",
      "         MeasureDesc STRING,\n",
      "         Sub_Measure STRING,\n",
      "         Variable STRING,\n",
      "         Offered_for_Free STRING,\n",
      "         Offered_for_Free_Text STRING,\n",
      "         Geographic_Requirements STRING,\n",
      "         Geographic_Requirements_Text STRING,\n",
      "         Age_Requirements STRING,\n",
      "         Age_Requirements_Text STRING,\n",
      "         Readiness_to_Quit_Requirements STRING,\n",
      "         Readiness_to_Quit_Requirements_Text STRING,\n",
      "         Counseling_Requirements STRING,\n",
      "         Counseling_Requirements_Text STRING,\n",
      "         Physician_Approval_Required STRING,\n",
      "         Physician_Approval_Required_Text STRING,\n",
      "         Medical_Restrictions STRING,\n",
      "         Medical_Restrictions_Text STRING,\n",
      "         Insurance_Requirements STRING,\n",
      "         Insurance_Requirements_Text STRING,\n",
      "         Other_Requirements STRING,\n",
      "         Other_Requirements_Text STRING,\n",
      "         Limited_Supply STRING,\n",
      "         Limited_Supply_Text STRING,\n",
      "         Unlimited_Weeks_Offered STRING,\n",
      "         Number_of_Weeks_Offered FLOAT,\n",
      "         Limit_Per_Year STRING,\n",
      "         Comments STRING,\n",
      "         GeoLocation STRING,\n",
      "         TopicTypeId STRING,\n",
      "         TopicId STRING,\n",
      "         MeasureID STRING,\n",
      "         SOURCE STRING,\n",
      "         SubMeasureID STRING,\n",
      "         DisplayOrder INT\n",
      ") ROW FORMAT DELIMITED \n",
      "FIELDS TERMINATED BY ',' \n",
      "LINES TERMINATED BY '\\n' \n",
      "LOCATION 's3://cardiovale-solutions-datascience-pipeline/raw-data/quitline_services/' \n",
      "TBLPROPERTIES ('skip.header.line.count'='1')\n"
     ]
    }
   ],
   "source": [
    "# SQL statement to execute for quitline_services table\n",
    "statement_quitline = \"\"\"CREATE EXTERNAL TABLE IF NOT EXISTS {}.{}(\n",
    "         Year INT,\n",
    "         Date INT,\n",
    "         Date_Ref STRING,\n",
    "         LocationAbbr STRING,\n",
    "         LocationDesc STRING,\n",
    "         TopicType STRING,\n",
    "         TopicDesc STRING,\n",
    "         MeasureDesc STRING,\n",
    "         Sub_Measure STRING,\n",
    "         Variable STRING,\n",
    "         Offered_for_Free STRING,\n",
    "         Offered_for_Free_Text STRING,\n",
    "         Geographic_Requirements STRING,\n",
    "         Geographic_Requirements_Text STRING,\n",
    "         Age_Requirements STRING,\n",
    "         Age_Requirements_Text STRING,\n",
    "         Readiness_to_Quit_Requirements STRING,\n",
    "         Readiness_to_Quit_Requirements_Text STRING,\n",
    "         Counseling_Requirements STRING,\n",
    "         Counseling_Requirements_Text STRING,\n",
    "         Physician_Approval_Required STRING,\n",
    "         Physician_Approval_Required_Text STRING,\n",
    "         Medical_Restrictions STRING,\n",
    "         Medical_Restrictions_Text STRING,\n",
    "         Insurance_Requirements STRING,\n",
    "         Insurance_Requirements_Text STRING,\n",
    "         Other_Requirements STRING,\n",
    "         Other_Requirements_Text STRING,\n",
    "         Limited_Supply STRING,\n",
    "         Limited_Supply_Text STRING,\n",
    "         Unlimited_Weeks_Offered STRING,\n",
    "         Number_of_Weeks_Offered FLOAT,\n",
    "         Limit_Per_Year STRING,\n",
    "         Comments STRING,\n",
    "         GeoLocation STRING,\n",
    "         TopicTypeId STRING,\n",
    "         TopicId STRING,\n",
    "         MeasureID STRING,\n",
    "         SOURCE STRING,\n",
    "         SubMeasureID STRING,\n",
    "         DisplayOrder INT\n",
    ") ROW FORMAT DELIMITED \n",
    "FIELDS TERMINATED BY ',' \n",
    "LINES TERMINATED BY '\\\\n' \n",
    "LOCATION '{}' \n",
    "TBLPROPERTIES ('skip.header.line.count'='1')\"\"\".format(\n",
    "    database_name, table_2_name, s3_private_path_quitline\n",
    ")\n",
    "print(statement_quitline)\n"
   ]
  },
  {
   "cell_type": "code",
   "execution_count": 22,
   "metadata": {},
   "outputs": [
    {
     "name": "stderr",
     "output_type": "stream",
     "text": [
      "/tmp/ipykernel_1579/1048700737.py:3: UserWarning: pandas only supports SQLAlchemy connectable (engine/connection) or database string URI or sqlite3 DBAPI2 connection. Other DBAPI2 objects are not tested. Please consider using SQLAlchemy.\n",
      "  pd.read_sql(statement_cardio, conn)\n"
     ]
    },
    {
     "data": {
      "text/html": [
       "<div>\n",
       "<style scoped>\n",
       "    .dataframe tbody tr th:only-of-type {\n",
       "        vertical-align: middle;\n",
       "    }\n",
       "\n",
       "    .dataframe tbody tr th {\n",
       "        vertical-align: top;\n",
       "    }\n",
       "\n",
       "    .dataframe thead th {\n",
       "        text-align: right;\n",
       "    }\n",
       "</style>\n",
       "<table border=\"1\" class=\"dataframe\">\n",
       "  <thead>\n",
       "    <tr style=\"text-align: right;\">\n",
       "      <th></th>\n",
       "    </tr>\n",
       "  </thead>\n",
       "  <tbody>\n",
       "  </tbody>\n",
       "</table>\n",
       "</div>"
      ],
      "text/plain": [
       "Empty DataFrame\n",
       "Columns: []\n",
       "Index: []"
      ]
     },
     "execution_count": 22,
     "metadata": {},
     "output_type": "execute_result"
    }
   ],
   "source": [
    "import pandas as pd\n",
    "\n",
    "pd.read_sql(statement_cardio, conn)"
   ]
  },
  {
   "cell_type": "code",
   "execution_count": 23,
   "metadata": {},
   "outputs": [
    {
     "name": "stdout",
     "output_type": "stream",
     "text": [
      "2025-04-01 02:13:09    6934258 Quitline___Services_Available___Medications_-_2010_To_Present_20250306.csv\n",
      "2025-04-05 04:07:41    7729582 quitline_fixed.csv\n"
     ]
    }
   ],
   "source": [
    "!aws s3 ls s3://cardiovale-solutions-datascience-pipeline/raw-data/quitline_services/\n"
   ]
  },
  {
   "cell_type": "code",
   "execution_count": 24,
   "metadata": {},
   "outputs": [
    {
     "name": "stderr",
     "output_type": "stream",
     "text": [
      "/tmp/ipykernel_1579/856595348.py:1: UserWarning: pandas only supports SQLAlchemy connectable (engine/connection) or database string URI or sqlite3 DBAPI2 connection. Other DBAPI2 objects are not tested. Please consider using SQLAlchemy.\n",
      "  pd.read_sql(statement_quitline, conn)\n"
     ]
    },
    {
     "data": {
      "text/html": [
       "<div>\n",
       "<style scoped>\n",
       "    .dataframe tbody tr th:only-of-type {\n",
       "        vertical-align: middle;\n",
       "    }\n",
       "\n",
       "    .dataframe tbody tr th {\n",
       "        vertical-align: top;\n",
       "    }\n",
       "\n",
       "    .dataframe thead th {\n",
       "        text-align: right;\n",
       "    }\n",
       "</style>\n",
       "<table border=\"1\" class=\"dataframe\">\n",
       "  <thead>\n",
       "    <tr style=\"text-align: right;\">\n",
       "      <th></th>\n",
       "    </tr>\n",
       "  </thead>\n",
       "  <tbody>\n",
       "  </tbody>\n",
       "</table>\n",
       "</div>"
      ],
      "text/plain": [
       "Empty DataFrame\n",
       "Columns: []\n",
       "Index: []"
      ]
     },
     "execution_count": 24,
     "metadata": {},
     "output_type": "execute_result"
    }
   ],
   "source": [
    "pd.read_sql(statement_quitline, conn)"
   ]
  },
  {
   "cell_type": "markdown",
   "metadata": {},
   "source": [
    "# Verify The Table Has Been Created Succesfully"
   ]
  },
  {
   "cell_type": "code",
   "execution_count": 25,
   "metadata": {},
   "outputs": [
    {
     "name": "stderr",
     "output_type": "stream",
     "text": [
      "/tmp/ipykernel_1579/2201015668.py:3: UserWarning: pandas only supports SQLAlchemy connectable (engine/connection) or database string URI or sqlite3 DBAPI2 connection. Other DBAPI2 objects are not tested. Please consider using SQLAlchemy.\n",
      "  df_show = pd.read_sql(statement, conn)\n"
     ]
    },
    {
     "data": {
      "text/html": [
       "<div>\n",
       "<style scoped>\n",
       "    .dataframe tbody tr th:only-of-type {\n",
       "        vertical-align: middle;\n",
       "    }\n",
       "\n",
       "    .dataframe tbody tr th {\n",
       "        vertical-align: top;\n",
       "    }\n",
       "\n",
       "    .dataframe thead th {\n",
       "        text-align: right;\n",
       "    }\n",
       "</style>\n",
       "<table border=\"1\" class=\"dataframe\">\n",
       "  <thead>\n",
       "    <tr style=\"text-align: right;\">\n",
       "      <th></th>\n",
       "      <th>tab_name</th>\n",
       "    </tr>\n",
       "  </thead>\n",
       "  <tbody>\n",
       "    <tr>\n",
       "      <th>0</th>\n",
       "      <td>cardio_train_cleaned</td>\n",
       "    </tr>\n",
       "    <tr>\n",
       "      <th>1</th>\n",
       "      <td>quitline_fixed</td>\n",
       "    </tr>\n",
       "  </tbody>\n",
       "</table>\n",
       "</div>"
      ],
      "text/plain": [
       "               tab_name\n",
       "0  cardio_train_cleaned\n",
       "1        quitline_fixed"
      ]
     },
     "execution_count": 25,
     "metadata": {},
     "output_type": "execute_result"
    }
   ],
   "source": [
    "statement = \"SHOW TABLES in {}\".format(database_name)\n",
    "\n",
    "df_show = pd.read_sql(statement, conn)\n",
    "df_show.head(5)"
   ]
  },
  {
   "cell_type": "code",
   "execution_count": 26,
   "metadata": {},
   "outputs": [],
   "source": [
    "if (table_1_name and table_2_name) in df_show.values:\n",
    "    ingest_create_athena_table_cardio_passed = True"
   ]
  },
  {
   "cell_type": "markdown",
   "metadata": {},
   "source": [
    "# Run A Sample Query for cardio table"
   ]
  },
  {
   "cell_type": "code",
   "execution_count": 27,
   "metadata": {},
   "outputs": [
    {
     "name": "stdout",
     "output_type": "stream",
     "text": [
      "SELECT * FROM cardiovale_db.cardio_train_cleaned LIMIT 10\n"
     ]
    }
   ],
   "source": [
    "statement = \"\"\"SELECT * FROM {}.{} LIMIT 10\"\"\".format(\n",
    "    database_name, \"cardio_train_cleaned\"\n",
    ")\n",
    "\n",
    "print(statement)\n"
   ]
  },
  {
   "cell_type": "code",
   "execution_count": 28,
   "metadata": {},
   "outputs": [
    {
     "name": "stderr",
     "output_type": "stream",
     "text": [
      "/tmp/ipykernel_1579/2446512133.py:1: UserWarning: pandas only supports SQLAlchemy connectable (engine/connection) or database string URI or sqlite3 DBAPI2 connection. Other DBAPI2 objects are not tested. Please consider using SQLAlchemy.\n",
      "  df = pd.read_sql(statement, conn)\n"
     ]
    },
    {
     "data": {
      "text/html": [
       "<div>\n",
       "<style scoped>\n",
       "    .dataframe tbody tr th:only-of-type {\n",
       "        vertical-align: middle;\n",
       "    }\n",
       "\n",
       "    .dataframe tbody tr th {\n",
       "        vertical-align: top;\n",
       "    }\n",
       "\n",
       "    .dataframe thead th {\n",
       "        text-align: right;\n",
       "    }\n",
       "</style>\n",
       "<table border=\"1\" class=\"dataframe\">\n",
       "  <thead>\n",
       "    <tr style=\"text-align: right;\">\n",
       "      <th></th>\n",
       "      <th>id</th>\n",
       "      <th>age</th>\n",
       "      <th>gender</th>\n",
       "      <th>height</th>\n",
       "      <th>weight</th>\n",
       "      <th>ap_hi</th>\n",
       "      <th>ap_lo</th>\n",
       "      <th>cholesterol</th>\n",
       "      <th>gluc</th>\n",
       "      <th>smoke</th>\n",
       "      <th>alco</th>\n",
       "      <th>active</th>\n",
       "      <th>cardio</th>\n",
       "    </tr>\n",
       "  </thead>\n",
       "  <tbody>\n",
       "    <tr>\n",
       "      <th>0</th>\n",
       "      <td>0</td>\n",
       "      <td>18393</td>\n",
       "      <td>2</td>\n",
       "      <td>168</td>\n",
       "      <td>62.0</td>\n",
       "      <td>110</td>\n",
       "      <td>80</td>\n",
       "      <td>1</td>\n",
       "      <td>1</td>\n",
       "      <td>0</td>\n",
       "      <td>0</td>\n",
       "      <td>1</td>\n",
       "      <td>0</td>\n",
       "    </tr>\n",
       "    <tr>\n",
       "      <th>1</th>\n",
       "      <td>1</td>\n",
       "      <td>20228</td>\n",
       "      <td>1</td>\n",
       "      <td>156</td>\n",
       "      <td>85.0</td>\n",
       "      <td>140</td>\n",
       "      <td>90</td>\n",
       "      <td>3</td>\n",
       "      <td>1</td>\n",
       "      <td>0</td>\n",
       "      <td>0</td>\n",
       "      <td>1</td>\n",
       "      <td>1</td>\n",
       "    </tr>\n",
       "    <tr>\n",
       "      <th>2</th>\n",
       "      <td>2</td>\n",
       "      <td>18857</td>\n",
       "      <td>1</td>\n",
       "      <td>165</td>\n",
       "      <td>64.0</td>\n",
       "      <td>130</td>\n",
       "      <td>70</td>\n",
       "      <td>3</td>\n",
       "      <td>1</td>\n",
       "      <td>0</td>\n",
       "      <td>0</td>\n",
       "      <td>0</td>\n",
       "      <td>1</td>\n",
       "    </tr>\n",
       "    <tr>\n",
       "      <th>3</th>\n",
       "      <td>3</td>\n",
       "      <td>17623</td>\n",
       "      <td>2</td>\n",
       "      <td>169</td>\n",
       "      <td>82.0</td>\n",
       "      <td>150</td>\n",
       "      <td>100</td>\n",
       "      <td>1</td>\n",
       "      <td>1</td>\n",
       "      <td>0</td>\n",
       "      <td>0</td>\n",
       "      <td>1</td>\n",
       "      <td>1</td>\n",
       "    </tr>\n",
       "    <tr>\n",
       "      <th>4</th>\n",
       "      <td>4</td>\n",
       "      <td>17474</td>\n",
       "      <td>1</td>\n",
       "      <td>156</td>\n",
       "      <td>56.0</td>\n",
       "      <td>100</td>\n",
       "      <td>60</td>\n",
       "      <td>1</td>\n",
       "      <td>1</td>\n",
       "      <td>0</td>\n",
       "      <td>0</td>\n",
       "      <td>0</td>\n",
       "      <td>0</td>\n",
       "    </tr>\n",
       "  </tbody>\n",
       "</table>\n",
       "</div>"
      ],
      "text/plain": [
       "   id    age  gender  height  weight  ap_hi  ap_lo  cholesterol  gluc  smoke  \\\n",
       "0   0  18393       2     168    62.0    110     80            1     1      0   \n",
       "1   1  20228       1     156    85.0    140     90            3     1      0   \n",
       "2   2  18857       1     165    64.0    130     70            3     1      0   \n",
       "3   3  17623       2     169    82.0    150    100            1     1      0   \n",
       "4   4  17474       1     156    56.0    100     60            1     1      0   \n",
       "\n",
       "   alco  active  cardio  \n",
       "0     0       1       0  \n",
       "1     0       1       1  \n",
       "2     0       0       1  \n",
       "3     0       1       1  \n",
       "4     0       0       0  "
      ]
     },
     "execution_count": 28,
     "metadata": {},
     "output_type": "execute_result"
    }
   ],
   "source": [
    "df = pd.read_sql(statement, conn)\n",
    "df.head(5)"
   ]
  },
  {
   "cell_type": "code",
   "execution_count": 29,
   "metadata": {},
   "outputs": [
    {
     "data": {
      "text/html": [
       "<pre style=\"white-space:pre;overflow-x:auto;line-height:normal;font-family:Menlo,'DejaVu Sans Mono',consolas,'Courier New',monospace\"><span style=\"color: #7fbfbf; text-decoration-color: #7fbfbf\">[04/05/25 04:07:50] </span><span style=\"color: #0069ff; text-decoration-color: #0069ff; font-weight: bold\">INFO    </span> Initializing a Ray instance                                               <a href=\"file:///opt/conda/lib/python3.11/site-packages/awswrangler/distributed/ray/_core.py\" target=\"_blank\"><span style=\"color: #7f7f7f; text-decoration-color: #7f7f7f\">_core.py</span></a><span style=\"color: #7f7f7f; text-decoration-color: #7f7f7f\">:</span><a href=\"file:///opt/conda/lib/python3.11/site-packages/awswrangler/distributed/ray/_core.py#202\" target=\"_blank\"><span style=\"color: #7f7f7f; text-decoration-color: #7f7f7f\">202</span></a>\n",
       "</pre>\n"
      ],
      "text/plain": [
       "\u001b[2;36m[04/05/25 04:07:50]\u001b[0m\u001b[2;36m \u001b[0m\u001b[1;38;2;0;105;255mINFO    \u001b[0m Initializing a Ray instance                                               \u001b]8;id=963191;file:///opt/conda/lib/python3.11/site-packages/awswrangler/distributed/ray/_core.py\u001b\\\u001b[2m_core.py\u001b[0m\u001b]8;;\u001b\\\u001b[2m:\u001b[0m\u001b]8;id=627004;file:///opt/conda/lib/python3.11/site-packages/awswrangler/distributed/ray/_core.py#202\u001b\\\u001b[2m202\u001b[0m\u001b]8;;\u001b\\\n"
      ]
     },
     "metadata": {},
     "output_type": "display_data"
    },
    {
     "name": "stderr",
     "output_type": "stream",
     "text": [
      "2025-04-05 04:07:51,890\tWARNING services.py:2022 -- WARNING: The object store is using /tmp instead of /dev/shm because /dev/shm has only 1895804928 bytes available. This will harm performance! You may be able to free up space by deleting files in /dev/shm. If you are inside a Docker container, you can increase /dev/shm size by passing '--shm-size=4.70gb' to 'docker run' (or add it to the run_options list in a Ray cluster config). Make sure to set this to more than 30% of available RAM.\n",
      "2025-04-05 04:07:52,061\tINFO worker.py:1786 -- Started a local Ray instance.\n"
     ]
    },
    {
     "name": "stdout",
     "output_type": "stream",
     "text": [
      "  id;age;gender;height;weight;ap_hi;ap_lo;cholesterol;gluc;smoke;alco;active;cardio\n",
      "0              0;18393;2;168;62.0;110;80;1;1;0;0;1;0                               \n",
      "1              1;20228;1;156;85.0;140;90;3;1;0;0;1;1                               \n",
      "2              2;18857;1;165;64.0;130;70;3;1;0;0;0;1                               \n",
      "3             3;17623;2;169;82.0;150;100;1;1;0;0;1;1                               \n",
      "4              4;17474;1;156;56.0;100;60;1;1;0;0;0;0                               \n"
     ]
    }
   ],
   "source": [
    "import awswrangler as wr\n",
    "\n",
    "df = wr.s3.read_csv(\"s3://cardiovale-solutions-datascience-pipeline/raw-data/cardio_train/cardio_train.csv\")\n",
    "print(df.head())\n"
   ]
  },
  {
   "cell_type": "markdown",
   "metadata": {},
   "source": [
    "# Run A Sample Query for quitline table"
   ]
  },
  {
   "cell_type": "code",
   "execution_count": 30,
   "metadata": {},
   "outputs": [
    {
     "name": "stdout",
     "output_type": "stream",
     "text": [
      "SELECT * FROM cardiovale_db.quitline_fixed LIMIT 10\n"
     ]
    }
   ],
   "source": [
    "statement = \"\"\"SELECT * FROM {}.{} LIMIT 10\"\"\".format(\n",
    "    database_name, \"quitline_fixed\"\n",
    ")\n",
    "\n",
    "print(statement)\n"
   ]
  },
  {
   "cell_type": "code",
   "execution_count": 31,
   "metadata": {},
   "outputs": [
    {
     "name": "stderr",
     "output_type": "stream",
     "text": [
      "/tmp/ipykernel_1579/2446512133.py:1: UserWarning: pandas only supports SQLAlchemy connectable (engine/connection) or database string URI or sqlite3 DBAPI2 connection. Other DBAPI2 objects are not tested. Please consider using SQLAlchemy.\n",
      "  df = pd.read_sql(statement, conn)\n"
     ]
    },
    {
     "data": {
      "text/html": [
       "<div>\n",
       "<style scoped>\n",
       "    .dataframe tbody tr th:only-of-type {\n",
       "        vertical-align: middle;\n",
       "    }\n",
       "\n",
       "    .dataframe tbody tr th {\n",
       "        vertical-align: top;\n",
       "    }\n",
       "\n",
       "    .dataframe thead th {\n",
       "        text-align: right;\n",
       "    }\n",
       "</style>\n",
       "<table border=\"1\" class=\"dataframe\">\n",
       "  <thead>\n",
       "    <tr style=\"text-align: right;\">\n",
       "      <th></th>\n",
       "      <th>year</th>\n",
       "      <th>date</th>\n",
       "      <th>date_ref</th>\n",
       "      <th>locationabbr</th>\n",
       "      <th>locationdesc</th>\n",
       "      <th>topictype</th>\n",
       "      <th>topicdesc</th>\n",
       "      <th>measuredesc</th>\n",
       "      <th>sub_measure</th>\n",
       "      <th>variable</th>\n",
       "      <th>...</th>\n",
       "      <th>number_of_weeks_offered</th>\n",
       "      <th>limit_per_year</th>\n",
       "      <th>comments</th>\n",
       "      <th>geolocation</th>\n",
       "      <th>topictypeid</th>\n",
       "      <th>topicid</th>\n",
       "      <th>measureid</th>\n",
       "      <th>source</th>\n",
       "      <th>submeasureid</th>\n",
       "      <th>displayorder</th>\n",
       "    </tr>\n",
       "  </thead>\n",
       "  <tbody>\n",
       "    <tr>\n",
       "      <th>0</th>\n",
       "      <td>2020</td>\n",
       "      <td>12</td>\n",
       "      <td>Jul-Dec</td>\n",
       "      <td>GA</td>\n",
       "      <td>Georgia</td>\n",
       "      <td>Quitline</td>\n",
       "      <td>Services Available</td>\n",
       "      <td>Medications</td>\n",
       "      <td>Nicotine Lozenge</td>\n",
       "      <td>nan</td>\n",
       "      <td>...</td>\n",
       "      <td>NaN</td>\n",
       "      <td>nan</td>\n",
       "      <td>nan</td>\n",
       "      <td>\"(32.83968109300048</td>\n",
       "      <td>-83.62758034599966)\"</td>\n",
       "      <td>QUI</td>\n",
       "      <td>900QUI</td>\n",
       "      <td>912MED</td>\n",
       "      <td>\"National Quitline Data Warehouse</td>\n",
       "      <td>None</td>\n",
       "    </tr>\n",
       "    <tr>\n",
       "      <th>1</th>\n",
       "      <td>2020</td>\n",
       "      <td>12</td>\n",
       "      <td>Jul-Dec</td>\n",
       "      <td>MO</td>\n",
       "      <td>Missouri</td>\n",
       "      <td>Quitline</td>\n",
       "      <td>Services Available</td>\n",
       "      <td>Medications</td>\n",
       "      <td>Nicotine Lozenge</td>\n",
       "      <td>nan</td>\n",
       "      <td>...</td>\n",
       "      <td>NaN</td>\n",
       "      <td>nan</td>\n",
       "      <td>nan</td>\n",
       "      <td>\"(38.635790776000476</td>\n",
       "      <td>-92.56630005299968)\"</td>\n",
       "      <td>QUI</td>\n",
       "      <td>900QUI</td>\n",
       "      <td>912MED</td>\n",
       "      <td>\"National Quitline Data Warehouse</td>\n",
       "      <td>None</td>\n",
       "    </tr>\n",
       "    <tr>\n",
       "      <th>2</th>\n",
       "      <td>2020</td>\n",
       "      <td>12</td>\n",
       "      <td>Jul-Dec</td>\n",
       "      <td>MT</td>\n",
       "      <td>Montana</td>\n",
       "      <td>Quitline</td>\n",
       "      <td>Services Available</td>\n",
       "      <td>Medications</td>\n",
       "      <td>Bupropion (Zyban®)</td>\n",
       "      <td>nan</td>\n",
       "      <td>...</td>\n",
       "      <td>NaN</td>\n",
       "      <td>nan</td>\n",
       "      <td>nan</td>\n",
       "      <td>\"(47.06652897200047</td>\n",
       "      <td>-109.42442064499971)\"</td>\n",
       "      <td>QUI</td>\n",
       "      <td>900QUI</td>\n",
       "      <td>912MED</td>\n",
       "      <td>\"National Quitline Data Warehouse</td>\n",
       "      <td>None</td>\n",
       "    </tr>\n",
       "    <tr>\n",
       "      <th>3</th>\n",
       "      <td>2020</td>\n",
       "      <td>12</td>\n",
       "      <td>Jul-Dec</td>\n",
       "      <td>NJ</td>\n",
       "      <td>New Jersey</td>\n",
       "      <td>Quitline</td>\n",
       "      <td>Services Available</td>\n",
       "      <td>Medications</td>\n",
       "      <td>Nicotine Lozenge</td>\n",
       "      <td>nan</td>\n",
       "      <td>...</td>\n",
       "      <td>NaN</td>\n",
       "      <td>nan</td>\n",
       "      <td>nan</td>\n",
       "      <td>\"(40.13057004800049</td>\n",
       "      <td>-74.27369128799967)\"</td>\n",
       "      <td>QUI</td>\n",
       "      <td>900QUI</td>\n",
       "      <td>912MED</td>\n",
       "      <td>\"National Quitline Data Warehouse</td>\n",
       "      <td>None</td>\n",
       "    </tr>\n",
       "    <tr>\n",
       "      <th>4</th>\n",
       "      <td>2020</td>\n",
       "      <td>12</td>\n",
       "      <td>Jul-Dec</td>\n",
       "      <td>OK</td>\n",
       "      <td>Oklahoma</td>\n",
       "      <td>Quitline</td>\n",
       "      <td>Services Available</td>\n",
       "      <td>Medications</td>\n",
       "      <td>Nicotine Gum</td>\n",
       "      <td>All Eligible Callers</td>\n",
       "      <td>...</td>\n",
       "      <td>2.0</td>\n",
       "      <td>2 times per year</td>\n",
       "      <td>nan</td>\n",
       "      <td>\"(35.47203135600046</td>\n",
       "      <td>-97.52107021399968)\"</td>\n",
       "      <td>QUI</td>\n",
       "      <td>900QUI</td>\n",
       "      <td>912MED</td>\n",
       "      <td>\"National Quitline Data Warehouse</td>\n",
       "      <td>None</td>\n",
       "    </tr>\n",
       "  </tbody>\n",
       "</table>\n",
       "<p>5 rows × 41 columns</p>\n",
       "</div>"
      ],
      "text/plain": [
       "   year  date date_ref locationabbr locationdesc topictype  \\\n",
       "0  2020    12  Jul-Dec           GA      Georgia  Quitline   \n",
       "1  2020    12  Jul-Dec           MO     Missouri  Quitline   \n",
       "2  2020    12  Jul-Dec           MT      Montana  Quitline   \n",
       "3  2020    12  Jul-Dec           NJ   New Jersey  Quitline   \n",
       "4  2020    12  Jul-Dec           OK     Oklahoma  Quitline   \n",
       "\n",
       "            topicdesc  measuredesc         sub_measure              variable  \\\n",
       "0  Services Available  Medications    Nicotine Lozenge                   nan   \n",
       "1  Services Available  Medications    Nicotine Lozenge                   nan   \n",
       "2  Services Available  Medications  Bupropion (Zyban®)                   nan   \n",
       "3  Services Available  Medications    Nicotine Lozenge                   nan   \n",
       "4  Services Available  Medications        Nicotine Gum  All Eligible Callers   \n",
       "\n",
       "   ... number_of_weeks_offered    limit_per_year comments  \\\n",
       "0  ...                     NaN               nan      nan   \n",
       "1  ...                     NaN               nan      nan   \n",
       "2  ...                     NaN               nan      nan   \n",
       "3  ...                     NaN               nan      nan   \n",
       "4  ...                     2.0  2 times per year      nan   \n",
       "\n",
       "            geolocation             topictypeid topicid measureid  source  \\\n",
       "0   \"(32.83968109300048    -83.62758034599966)\"     QUI    900QUI  912MED   \n",
       "1  \"(38.635790776000476    -92.56630005299968)\"     QUI    900QUI  912MED   \n",
       "2   \"(47.06652897200047   -109.42442064499971)\"     QUI    900QUI  912MED   \n",
       "3   \"(40.13057004800049    -74.27369128799967)\"     QUI    900QUI  912MED   \n",
       "4   \"(35.47203135600046    -97.52107021399968)\"     QUI    900QUI  912MED   \n",
       "\n",
       "                        submeasureid displayorder  \n",
       "0  \"National Quitline Data Warehouse         None  \n",
       "1  \"National Quitline Data Warehouse         None  \n",
       "2  \"National Quitline Data Warehouse         None  \n",
       "3  \"National Quitline Data Warehouse         None  \n",
       "4  \"National Quitline Data Warehouse         None  \n",
       "\n",
       "[5 rows x 41 columns]"
      ]
     },
     "execution_count": 31,
     "metadata": {},
     "output_type": "execute_result"
    }
   ],
   "source": [
    "df = pd.read_sql(statement, conn)\n",
    "df.head(5)"
   ]
  },
  {
   "cell_type": "code",
   "execution_count": 33,
   "metadata": {},
   "outputs": [
    {
     "name": "stdout",
     "output_type": "stream",
     "text": [
      "   Year  Date Date_Ref LocationAbbr LocationDesc TopicType  \\\n",
      "0  2020    12  Jul-Dec           GA      Georgia  Quitline   \n",
      "1  2020    12  Jul-Dec           MO     Missouri  Quitline   \n",
      "2  2020    12  Jul-Dec           MT      Montana  Quitline   \n",
      "3  2020    12  Jul-Dec           NJ   New Jersey  Quitline   \n",
      "4  2020    12  Jul-Dec           OK     Oklahoma  Quitline   \n",
      "\n",
      "            TopicDesc  MeasureDesc         Sub-Measure              Variable  \\\n",
      "0  Services Available  Medications    Nicotine Lozenge                   NaN   \n",
      "1  Services Available  Medications    Nicotine Lozenge                   NaN   \n",
      "2  Services Available  Medications  Bupropion (Zyban®)                   NaN   \n",
      "3  Services Available  Medications    Nicotine Lozenge                   NaN   \n",
      "4  Services Available  Medications        Nicotine Gum  All Eligible Callers   \n",
      "\n",
      "   ... Number_of_Weeks_Offered    Limit_Per_Year Comments  \\\n",
      "0  ...                     NaN               NaN      NaN   \n",
      "1  ...                     NaN               NaN      NaN   \n",
      "2  ...                     NaN               NaN      NaN   \n",
      "3  ...                     NaN               NaN      NaN   \n",
      "4  ...                     2.0  2 times per year      NaN   \n",
      "\n",
      "                                GeoLocation TopicTypeId TopicId MeasureID  \\\n",
      "0   (32.83968109300048, -83.62758034599966)         QUI  900QUI    912MED   \n",
      "1  (38.635790776000476, -92.56630005299968)         QUI  900QUI    912MED   \n",
      "2  (47.06652897200047, -109.42442064499971)         QUI  900QUI    912MED   \n",
      "3   (40.13057004800049, -74.27369128799967)         QUI  900QUI    912MED   \n",
      "4   (35.47203135600046, -97.52107021399968)         QUI  900QUI    912MED   \n",
      "\n",
      "                                              SOURCE SubMeasureID DisplayOrder  \n",
      "0  National Quitline Data Warehouse, Office on Sm...        QUT07            7  \n",
      "1  National Quitline Data Warehouse, Office on Sm...        QUT07            7  \n",
      "2  National Quitline Data Warehouse, Office on Sm...        QUT10           10  \n",
      "3  National Quitline Data Warehouse, Office on Sm...        QUT07            7  \n",
      "4  National Quitline Data Warehouse, Office on Sm...        QUT06            6  \n",
      "\n",
      "[5 rows x 41 columns]\n"
     ]
    }
   ],
   "source": [
    "import awswrangler as wr\n",
    "\n",
    "df = wr.s3.read_csv(\"s3://cardiovale-solutions-datascience-pipeline/raw-data/quitline_services/Quitline___Services_Available___Medications_-_2010_To_Present_20250306.csv\")\n",
    "print(df.head())\n"
   ]
  },
  {
   "cell_type": "code",
   "execution_count": 34,
   "metadata": {},
   "outputs": [
    {
     "name": "stdout",
     "output_type": "stream",
     "text": [
      "[OK]\n"
     ]
    }
   ],
   "source": [
    "if not df.empty:\n",
    "    print(\"[OK]\")\n",
    "else:\n",
    "    print(\"++++++++++++++++++++++++++++++++++++++++++++++++++++++\")\n",
    "    print(\"[ERROR] YOUR DATA HAS NOT BEEN REGISTERED WITH ATHENA. LOOK IN PREVIOUS CELLS TO FIND THE ISSUE.\")\n",
    "    print(\"++++++++++++++++++++++++++++++++++++++++++++++++++++++\")"
   ]
  },
  {
   "cell_type": "markdown",
   "metadata": {},
   "source": [
    "# Review the New Athena Table in the Glue Catalog"
   ]
  },
  {
   "cell_type": "code",
   "execution_count": 35,
   "metadata": {},
   "outputs": [
    {
     "name": "stderr",
     "output_type": "stream",
     "text": [
      "/tmp/ipykernel_1579/4130537117.py:1: DeprecationWarning: Importing display from IPython.core.display is deprecated since IPython 7.14, please import from IPython.display\n",
      "  from IPython.core.display import display, HTML\n"
     ]
    },
    {
     "data": {
      "text/html": [
       "<b>Review <a target=\"top\" href=\"https://console.aws.amazon.com/glue/home?region=us-east-1#\">AWS Glue Catalog</a></b>"
      ],
      "text/plain": [
       "<IPython.core.display.HTML object>"
      ]
     },
     "metadata": {},
     "output_type": "display_data"
    }
   ],
   "source": [
    "from IPython.core.display import display, HTML\n",
    "\n",
    "display(\n",
    "    HTML(\n",
    "        '<b>Review <a target=\"top\" href=\"https://console.aws.amazon.com/glue/home?region={}#\">AWS Glue Catalog</a></b>'.format(\n",
    "            region\n",
    "        )\n",
    "    )\n",
    ")"
   ]
  },
  {
   "cell_type": "markdown",
   "metadata": {},
   "source": [
    "# Store Variables for the Next Notebooks"
   ]
  },
  {
   "cell_type": "code",
   "execution_count": 36,
   "metadata": {},
   "outputs": [
    {
     "name": "stdout",
     "output_type": "stream",
     "text": [
      "Stored variables and their in-db values:\n",
      "ingest_create_athena_db_passed             -> True\n"
     ]
    }
   ],
   "source": [
    "%store"
   ]
  },
  {
   "cell_type": "markdown",
   "metadata": {},
   "source": [
    "# Release Resources"
   ]
  },
  {
   "cell_type": "code",
   "execution_count": 37,
   "metadata": {},
   "outputs": [
    {
     "data": {
      "text/html": [
       "\n",
       "<p><b>Shutting down your kernel for this notebook to release resources.</b></p>\n",
       "<button class=\"sm-command-button\" data-commandlinker-command=\"kernelmenu:shutdown\" style=\"display:none;\">Shutdown Kernel</button>\n",
       "        \n",
       "<script>\n",
       "try {\n",
       "    els = document.getElementsByClassName(\"sm-command-button\");\n",
       "    els[0].click();\n",
       "}\n",
       "catch(err) {\n",
       "    // NoOp\n",
       "}    \n",
       "</script>\n"
      ],
      "text/plain": [
       "<IPython.core.display.HTML object>"
      ]
     },
     "metadata": {},
     "output_type": "display_data"
    },
    {
     "name": "stderr",
     "output_type": "stream",
     "text": [
      "*** SIGTERM received at time=1743826158 on cpu 1 ***\n",
      "PC: @     0x7fa81e779e2e  (unknown)  epoll_wait\n",
      "    @     0x7fa7a7af24fd         64  absl::lts_20230802::AbslFailureSignalHandler()\n",
      "    @     0x7fa81e696520  (unknown)  (unknown)\n",
      "[2025-04-05 04:09:18,399 E 1579 1579] logging.cc:440: *** SIGTERM received at time=1743826158 on cpu 1 ***\n",
      "[2025-04-05 04:09:18,399 E 1579 1579] logging.cc:440: PC: @     0x7fa81e779e2e  (unknown)  epoll_wait\n",
      "[2025-04-05 04:09:18,403 E 1579 1579] logging.cc:440:     @     0x7fa7a7af2529         64  absl::lts_20230802::AbslFailureSignalHandler()\n",
      "[2025-04-05 04:09:18,403 E 1579 1579] logging.cc:440:     @     0x7fa81e696520  (unknown)  (unknown)\n"
     ]
    }
   ],
   "source": [
    "%%html\n",
    "\n",
    "<p><b>Shutting down your kernel for this notebook to release resources.</b></p>\n",
    "<button class=\"sm-command-button\" data-commandlinker-command=\"kernelmenu:shutdown\" style=\"display:none;\">Shutdown Kernel</button>\n",
    "        \n",
    "<script>\n",
    "try {\n",
    "    els = document.getElementsByClassName(\"sm-command-button\");\n",
    "    els[0].click();\n",
    "}\n",
    "catch(err) {\n",
    "    // NoOp\n",
    "}    \n",
    "</script>"
   ]
  },
  {
   "cell_type": "code",
   "execution_count": null,
   "metadata": {},
   "outputs": [],
   "source": [
    "%%javascript\n",
    "\n",
    "try {\n",
    "    Jupyter.notebook.save_checkpoint();\n",
    "    Jupyter.notebook.session.delete();\n",
    "}\n",
    "catch(err) {\n",
    "    // NoOp\n",
    "}"
   ]
  },
  {
   "cell_type": "code",
   "execution_count": null,
   "metadata": {},
   "outputs": [],
   "source": []
  }
 ],
 "metadata": {
  "instance_type": "ml.t3.medium",
  "kernelspec": {
   "display_name": "Python 3 (ipykernel)",
   "language": "python",
   "name": "python3"
  },
  "language_info": {
   "codemirror_mode": {
    "name": "ipython",
    "version": 3
   },
   "file_extension": ".py",
   "mimetype": "text/x-python",
   "name": "python",
   "nbconvert_exporter": "python",
   "pygments_lexer": "ipython3",
   "version": "3.11.11"
  }
 },
 "nbformat": 4,
 "nbformat_minor": 4
}
