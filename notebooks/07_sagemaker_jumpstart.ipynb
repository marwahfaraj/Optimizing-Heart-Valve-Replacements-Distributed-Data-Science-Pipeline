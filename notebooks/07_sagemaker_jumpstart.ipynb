{
 "cells": [
  {
   "cell_type": "code",
   "execution_count": 1,
   "id": "1a259ec6-3946-4e57-a9d9-942ec6243b4d",
   "metadata": {},
   "outputs": [
    {
     "name": "stderr",
     "output_type": "stream",
     "text": [
      "/opt/conda/lib/python3.11/site-packages/pydantic/_internal/_fields.py:192: UserWarning: Field name \"json\" in \"MonitoringDatasetFormat\" shadows an attribute in parent \"Base\"\n",
      "  warnings.warn(\n"
     ]
    },
    {
     "name": "stdout",
     "output_type": "stream",
     "text": [
      "sagemaker.config INFO - Not applying SDK defaults from location: /etc/xdg/sagemaker/config.yaml\n",
      "sagemaker.config INFO - Not applying SDK defaults from location: /home/sagemaker-user/.config/sagemaker/config.yaml\n",
      "Original label distribution:\n",
      "cardio\n",
      "0    35021\n",
      "1    34979\n",
      "Name: count, dtype: int64\n",
      "Final label distribution:\n",
      "cardio\n",
      "0    35021\n",
      "1    34979\n",
      "Name: count, dtype: int64\n",
      "Split complete - Train: (49000, 16), Test: (21000, 16)\n",
      "Last column sample values: {'2.000000', '0.000000'}\n"
     ]
    },
    {
     "data": {
      "text/html": [
       "<pre style=\"white-space:pre;overflow-x:auto;line-height:normal;font-family:Menlo,'DejaVu Sans Mono',consolas,'Courier New',monospace\"><span style=\"color: #7fbfbf; text-decoration-color: #7fbfbf\">[04/05/25 21:28:17] </span><span style=\"color: #0069ff; text-decoration-color: #0069ff; font-weight: bold\">INFO    </span> Ignoring unnecessary instance type: <span style=\"color: #e100e1; text-decoration-color: #e100e1; font-style: italic\">None</span>.                            <a href=\"file:///opt/conda/lib/python3.11/site-packages/sagemaker/image_uris.py\" target=\"_blank\"><span style=\"color: #7f7f7f; text-decoration-color: #7f7f7f\">image_uris.py</span></a><span style=\"color: #7f7f7f; text-decoration-color: #7f7f7f\">:</span><a href=\"file:///opt/conda/lib/python3.11/site-packages/sagemaker/image_uris.py#530\" target=\"_blank\"><span style=\"color: #7f7f7f; text-decoration-color: #7f7f7f\">530</span></a>\n",
       "</pre>\n"
      ],
      "text/plain": [
       "\u001b[2;36m[04/05/25 21:28:17]\u001b[0m\u001b[2;36m \u001b[0m\u001b[1;38;2;0;105;255mINFO    \u001b[0m Ignoring unnecessary instance type: \u001b[3;38;2;225;0;225mNone\u001b[0m.                            \u001b]8;id=265285;file:///opt/conda/lib/python3.11/site-packages/sagemaker/image_uris.py\u001b\\\u001b[2mimage_uris.py\u001b[0m\u001b]8;;\u001b\\\u001b[2m:\u001b[0m\u001b]8;id=899112;file:///opt/conda/lib/python3.11/site-packages/sagemaker/image_uris.py#530\u001b\\\u001b[2m530\u001b[0m\u001b]8;;\u001b\\\n"
      ]
     },
     "metadata": {},
     "output_type": "display_data"
    },
    {
     "name": "stdout",
     "output_type": "stream",
     "text": [
      "Starting training with verified data...\n"
     ]
    },
    {
     "data": {
      "text/html": [
       "<pre style=\"white-space:pre;overflow-x:auto;line-height:normal;font-family:Menlo,'DejaVu Sans Mono',consolas,'Courier New',monospace\"><span style=\"color: #7fbfbf; text-decoration-color: #7fbfbf\">                    </span><span style=\"color: #0069ff; text-decoration-color: #0069ff; font-weight: bold\">INFO    </span> SageMaker Python SDK will collect telemetry to help us better  <a href=\"file:///opt/conda/lib/python3.11/site-packages/sagemaker/telemetry/telemetry_logging.py\" target=\"_blank\"><span style=\"color: #7f7f7f; text-decoration-color: #7f7f7f\">telemetry_logging.py</span></a><span style=\"color: #7f7f7f; text-decoration-color: #7f7f7f\">:</span><a href=\"file:///opt/conda/lib/python3.11/site-packages/sagemaker/telemetry/telemetry_logging.py#91\" target=\"_blank\"><span style=\"color: #7f7f7f; text-decoration-color: #7f7f7f\">91</span></a>\n",
       "<span style=\"color: #7fbfbf; text-decoration-color: #7fbfbf\">                    </span>         understand our user's needs, diagnose issues, and deliver      <span style=\"color: #7f7f7f; text-decoration-color: #7f7f7f\">                       </span>\n",
       "<span style=\"color: #7fbfbf; text-decoration-color: #7fbfbf\">                    </span>         additional features.                                           <span style=\"color: #7f7f7f; text-decoration-color: #7f7f7f\">                       </span>\n",
       "<span style=\"color: #7fbfbf; text-decoration-color: #7fbfbf\">                    </span>         To opt out of telemetry, please disable via TelemetryOptOut    <span style=\"color: #7f7f7f; text-decoration-color: #7f7f7f\">                       </span>\n",
       "<span style=\"color: #7fbfbf; text-decoration-color: #7fbfbf\">                    </span>         parameter in SDK defaults config. For more information, refer  <span style=\"color: #7f7f7f; text-decoration-color: #7f7f7f\">                       </span>\n",
       "<span style=\"color: #7fbfbf; text-decoration-color: #7fbfbf\">                    </span>         to                                                             <span style=\"color: #7f7f7f; text-decoration-color: #7f7f7f\">                       </span>\n",
       "<span style=\"color: #7fbfbf; text-decoration-color: #7fbfbf\">                    </span>         <span style=\"color: #0069ff; text-decoration-color: #0069ff; text-decoration: underline\">https://sagemaker.readthedocs.io/en/stable/overview.html#confi</span> <span style=\"color: #7f7f7f; text-decoration-color: #7f7f7f\">                       </span>\n",
       "<span style=\"color: #7fbfbf; text-decoration-color: #7fbfbf\">                    </span>         <span style=\"color: #0069ff; text-decoration-color: #0069ff; text-decoration: underline\">guring-and-using-defaults-with-the-sagemaker-python-sdk.</span>       <span style=\"color: #7f7f7f; text-decoration-color: #7f7f7f\">                       </span>\n",
       "</pre>\n"
      ],
      "text/plain": [
       "\u001b[2;36m                   \u001b[0m\u001b[2;36m \u001b[0m\u001b[1;38;2;0;105;255mINFO    \u001b[0m SageMaker Python SDK will collect telemetry to help us better  \u001b]8;id=650206;file:///opt/conda/lib/python3.11/site-packages/sagemaker/telemetry/telemetry_logging.py\u001b\\\u001b[2mtelemetry_logging.py\u001b[0m\u001b]8;;\u001b\\\u001b[2m:\u001b[0m\u001b]8;id=866570;file:///opt/conda/lib/python3.11/site-packages/sagemaker/telemetry/telemetry_logging.py#91\u001b\\\u001b[2m91\u001b[0m\u001b]8;;\u001b\\\n",
       "\u001b[2;36m                    \u001b[0m         understand our user's needs, diagnose issues, and deliver      \u001b[2m                       \u001b[0m\n",
       "\u001b[2;36m                    \u001b[0m         additional features.                                           \u001b[2m                       \u001b[0m\n",
       "\u001b[2;36m                    \u001b[0m         To opt out of telemetry, please disable via TelemetryOptOut    \u001b[2m                       \u001b[0m\n",
       "\u001b[2;36m                    \u001b[0m         parameter in SDK defaults config. For more information, refer  \u001b[2m                       \u001b[0m\n",
       "\u001b[2;36m                    \u001b[0m         to                                                             \u001b[2m                       \u001b[0m\n",
       "\u001b[2;36m                    \u001b[0m         \u001b[4;38;2;0;105;255mhttps://sagemaker.readthedocs.io/en/stable/overview.html#confi\u001b[0m \u001b[2m                       \u001b[0m\n",
       "\u001b[2;36m                    \u001b[0m         \u001b[4;38;2;0;105;255mguring-and-using-defaults-with-the-sagemaker-python-sdk.\u001b[0m       \u001b[2m                       \u001b[0m\n"
      ]
     },
     "metadata": {},
     "output_type": "display_data"
    },
    {
     "data": {
      "text/html": [
       "<pre style=\"white-space:pre;overflow-x:auto;line-height:normal;font-family:Menlo,'DejaVu Sans Mono',consolas,'Courier New',monospace\"><span style=\"color: #7fbfbf; text-decoration-color: #7fbfbf\">                    </span><span style=\"color: #0069ff; text-decoration-color: #0069ff; font-weight: bold\">INFO    </span> Creating training-job with name:                                       <a href=\"file:///opt/conda/lib/python3.11/site-packages/sagemaker/session.py\" target=\"_blank\"><span style=\"color: #7f7f7f; text-decoration-color: #7f7f7f\">session.py</span></a><span style=\"color: #7f7f7f; text-decoration-color: #7f7f7f\">:</span><a href=\"file:///opt/conda/lib/python3.11/site-packages/sagemaker/session.py#1042\" target=\"_blank\"><span style=\"color: #7f7f7f; text-decoration-color: #7f7f7f\">1042</span></a>\n",
       "<span style=\"color: #7fbfbf; text-decoration-color: #7fbfbf\">                    </span>         cardio-xgboost-final-<span style=\"color: #008080; text-decoration-color: #008080; font-weight: bold\">2025</span>-04-05-21-28-17-356                           <span style=\"color: #7f7f7f; text-decoration-color: #7f7f7f\">               </span>\n",
       "</pre>\n"
      ],
      "text/plain": [
       "\u001b[2;36m                   \u001b[0m\u001b[2;36m \u001b[0m\u001b[1;38;2;0;105;255mINFO    \u001b[0m Creating training-job with name:                                       \u001b]8;id=881462;file:///opt/conda/lib/python3.11/site-packages/sagemaker/session.py\u001b\\\u001b[2msession.py\u001b[0m\u001b]8;;\u001b\\\u001b[2m:\u001b[0m\u001b]8;id=976207;file:///opt/conda/lib/python3.11/site-packages/sagemaker/session.py#1042\u001b\\\u001b[2m1042\u001b[0m\u001b]8;;\u001b\\\n",
       "\u001b[2;36m                    \u001b[0m         cardio-xgboost-final-\u001b[1;36m2025\u001b[0m-04-05-21-28-17-356                           \u001b[2m               \u001b[0m\n"
      ]
     },
     "metadata": {},
     "output_type": "display_data"
    },
    {
     "name": "stdout",
     "output_type": "stream",
     "text": [
      "2025-04-05 21:28:18 Starting - Starting the training job...\n",
      "..25-04-05 21:28:32 Starting - Preparing the instances for training.\n",
      "..25-04-05 21:28:56 Downloading - Downloading input data.\n",
      ".....04-05 21:29:42 Downloading - Downloading the training image.\n",
      "2025-04-05 21:30:43 Training - Training image download completed. Training in progress.\n",
      "\u001b[34m[2025-04-05 21:30:37.387 ip-10-0-107-229.ec2.internal:7 INFO utils.py:27] RULE_JOB_STOP_SIGNAL_FILENAME: None\u001b[0m\n",
      "\u001b[34m[2025-04-05:21:30:37:INFO] Imported framework sagemaker_xgboost_container.training\u001b[0m\n",
      "\u001b[34m[2025-04-05:21:30:37:INFO] Failed to parse hyperparameter eval_metric value error to Json.\u001b[0m\n",
      "\u001b[34mReturning the value itself\u001b[0m\n",
      "\u001b[34m[2025-04-05:21:30:37:INFO] Failed to parse hyperparameter objective value binary:logistic to Json.\u001b[0m\n",
      "\u001b[34mReturning the value itself\u001b[0m\n",
      "\u001b[34m[2025-04-05:21:30:37:INFO] No GPUs detected (normal if no gpus installed)\u001b[0m\n",
      "\u001b[34m[2025-04-05:21:30:37:INFO] Running XGBoost Sagemaker in algorithm mode\u001b[0m\n",
      "\u001b[34m[2025-04-05:21:30:37:INFO] Determined delimiter of CSV input is ','\u001b[0m\n",
      "\u001b[34m[2025-04-05:21:30:37:INFO] Determined delimiter of CSV input is ','\u001b[0m\n",
      "\u001b[34m[2025-04-05:21:30:37:INFO] Single node training.\u001b[0m\n",
      "\u001b[34m[2025-04-05:21:30:37:INFO] Train matrix has 49000 rows and 15 columns\u001b[0m\n",
      "\u001b[34m[2025-04-05 21:30:37.524 ip-10-0-107-229.ec2.internal:7 INFO json_config.py:91] Creating hook from json_config at /opt/ml/input/config/debughookconfig.json.\u001b[0m\n",
      "\u001b[34m[2025-04-05 21:30:37.525 ip-10-0-107-229.ec2.internal:7 INFO hook.py:201] tensorboard_dir has not been set for the hook. SMDebug will not be exporting tensorboard summaries.\u001b[0m\n",
      "\u001b[34m[2025-04-05 21:30:37.526 ip-10-0-107-229.ec2.internal:7 INFO profiler_config_parser.py:102] User has disabled profiler.\u001b[0m\n",
      "\u001b[34m[2025-04-05 21:30:37.526 ip-10-0-107-229.ec2.internal:7 INFO hook.py:255] Saving to /opt/ml/output/tensors\u001b[0m\n",
      "\u001b[34m[2025-04-05 21:30:37.527 ip-10-0-107-229.ec2.internal:7 INFO state_store.py:77] The checkpoint config file /opt/ml/input/config/checkpointconfig.json does not exist.\u001b[0m\n",
      "\u001b[34m[2025-04-05:21:30:37:INFO] Debug hook created from config\u001b[0m\n",
      "\u001b[34m[21:30:37] INFO: ../src/tree/updater_prune.cc:101: tree pruning end, 118 extra nodes, 0 pruned nodes, max_depth=6\u001b[0m\n",
      "\u001b[34m[0]#011train-error:0.26327\u001b[0m\n",
      "\u001b[34m[2025-04-05 21:30:37.618 ip-10-0-107-229.ec2.internal:7 INFO hook.py:423] Monitoring the collections: metrics\u001b[0m\n",
      "\u001b[34m[2025-04-05 21:30:37.621 ip-10-0-107-229.ec2.internal:7 INFO hook.py:486] Hook is writing from the hook with pid: 7\u001b[0m\n",
      "\u001b[34m[21:30:37] INFO: ../src/tree/updater_prune.cc:101: tree pruning end, 118 extra nodes, 0 pruned nodes, max_depth=6\u001b[0m\n",
      "\u001b[34m[1]#011train-error:0.26163\u001b[0m\n",
      "\u001b[34m[21:30:37] INFO: ../src/tree/updater_prune.cc:101: tree pruning end, 122 extra nodes, 0 pruned nodes, max_depth=6\u001b[0m\n",
      "\u001b[34m[2]#011train-error:0.25847\u001b[0m\n",
      "\u001b[34m[21:30:37] INFO: ../src/tree/updater_prune.cc:101: tree pruning end, 124 extra nodes, 0 pruned nodes, max_depth=6\u001b[0m\n",
      "\u001b[34m[3]#011train-error:0.25792\u001b[0m\n",
      "\u001b[34m[21:30:37] INFO: ../src/tree/updater_prune.cc:101: tree pruning end, 124 extra nodes, 0 pruned nodes, max_depth=6\u001b[0m\n",
      "\u001b[34m[4]#011train-error:0.25712\u001b[0m\n",
      "\u001b[34m[21:30:37] INFO: ../src/tree/updater_prune.cc:101: tree pruning end, 126 extra nodes, 0 pruned nodes, max_depth=6\u001b[0m\n",
      "\u001b[34m[5]#011train-error:0.25620\u001b[0m\n",
      "\u001b[34m[21:30:37] INFO: ../src/tree/updater_prune.cc:101: tree pruning end, 118 extra nodes, 0 pruned nodes, max_depth=6\u001b[0m\n",
      "\u001b[34m[6]#011train-error:0.25629\u001b[0m\n",
      "\u001b[34m[21:30:37] INFO: ../src/tree/updater_prune.cc:101: tree pruning end, 102 extra nodes, 0 pruned nodes, max_depth=6\u001b[0m\n",
      "\u001b[34m[7]#011train-error:0.25543\u001b[0m\n",
      "\u001b[34m[21:30:37] INFO: ../src/tree/updater_prune.cc:101: tree pruning end, 122 extra nodes, 0 pruned nodes, max_depth=6\u001b[0m\n",
      "\u001b[34m[8]#011train-error:0.25431\u001b[0m\n",
      "\u001b[34m[21:30:38] INFO: ../src/tree/updater_prune.cc:101: tree pruning end, 88 extra nodes, 0 pruned nodes, max_depth=6\u001b[0m\n",
      "\u001b[34m[9]#011train-error:0.25386\u001b[0m\n",
      "\u001b[34m[21:30:38] INFO: ../src/tree/updater_prune.cc:101: tree pruning end, 76 extra nodes, 0 pruned nodes, max_depth=6\u001b[0m\n",
      "\u001b[34m[10]#011train-error:0.25333\u001b[0m\n",
      "\u001b[34m[21:30:38] INFO: ../src/tree/updater_prune.cc:101: tree pruning end, 102 extra nodes, 0 pruned nodes, max_depth=6\u001b[0m\n",
      "\u001b[34m[11]#011train-error:0.25310\u001b[0m\n",
      "\u001b[34m[21:30:38] INFO: ../src/tree/updater_prune.cc:101: tree pruning end, 112 extra nodes, 0 pruned nodes, max_depth=6\u001b[0m\n",
      "\u001b[34m[12]#011train-error:0.25222\u001b[0m\n",
      "\u001b[34m[21:30:38] INFO: ../src/tree/updater_prune.cc:101: tree pruning end, 70 extra nodes, 0 pruned nodes, max_depth=6\u001b[0m\n",
      "\u001b[34m[13]#011train-error:0.25196\u001b[0m\n",
      "\u001b[34m[21:30:38] INFO: ../src/tree/updater_prune.cc:101: tree pruning end, 98 extra nodes, 0 pruned nodes, max_depth=6\u001b[0m\n",
      "\u001b[34m[14]#011train-error:0.25102\u001b[0m\n",
      "\u001b[34m[21:30:38] INFO: ../src/tree/updater_prune.cc:101: tree pruning end, 76 extra nodes, 0 pruned nodes, max_depth=6\u001b[0m\n",
      "\u001b[34m[15]#011train-error:0.25055\u001b[0m\n",
      "\u001b[34m[21:30:38] INFO: ../src/tree/updater_prune.cc:101: tree pruning end, 96 extra nodes, 0 pruned nodes, max_depth=6\u001b[0m\n",
      "\u001b[34m[16]#011train-error:0.24971\u001b[0m\n",
      "\u001b[34m[21:30:38] INFO: ../src/tree/updater_prune.cc:101: tree pruning end, 96 extra nodes, 0 pruned nodes, max_depth=6\u001b[0m\n",
      "\u001b[34m[17]#011train-error:0.24943\u001b[0m\n",
      "\u001b[34m[21:30:38] INFO: ../src/tree/updater_prune.cc:101: tree pruning end, 90 extra nodes, 0 pruned nodes, max_depth=6\u001b[0m\n",
      "\u001b[34m[18]#011train-error:0.24929\u001b[0m\n",
      "\u001b[34m[21:30:38] INFO: ../src/tree/updater_prune.cc:101: tree pruning end, 110 extra nodes, 0 pruned nodes, max_depth=6\u001b[0m\n",
      "\u001b[34m[19]#011train-error:0.24827\u001b[0m\n",
      "\u001b[34m[21:30:38] INFO: ../src/tree/updater_prune.cc:101: tree pruning end, 52 extra nodes, 0 pruned nodes, max_depth=6\u001b[0m\n",
      "\u001b[34m[20]#011train-error:0.24802\u001b[0m\n",
      "\u001b[34m[21:30:38] INFO: ../src/tree/updater_prune.cc:101: tree pruning end, 74 extra nodes, 0 pruned nodes, max_depth=6\u001b[0m\n",
      "\u001b[34m[21]#011train-error:0.24786\u001b[0m\n",
      "\u001b[34m[21:30:38] INFO: ../src/tree/updater_prune.cc:101: tree pruning end, 110 extra nodes, 0 pruned nodes, max_depth=6\u001b[0m\n",
      "\u001b[34m[22]#011train-error:0.24753\u001b[0m\n",
      "\u001b[34m[21:30:38] INFO: ../src/tree/updater_prune.cc:101: tree pruning end, 26 extra nodes, 0 pruned nodes, max_depth=6\u001b[0m\n",
      "\u001b[34m[23]#011train-error:0.24739\u001b[0m\n",
      "\u001b[34m[21:30:38] INFO: ../src/tree/updater_prune.cc:101: tree pruning end, 72 extra nodes, 0 pruned nodes, max_depth=6\u001b[0m\n",
      "\u001b[34m[24]#011train-error:0.24661\u001b[0m\n",
      "\u001b[34m[21:30:38] INFO: ../src/tree/updater_prune.cc:101: tree pruning end, 88 extra nodes, 0 pruned nodes, max_depth=6\u001b[0m\n",
      "\u001b[34m[25]#011train-error:0.24598\u001b[0m\n",
      "\u001b[34m[21:30:38] INFO: ../src/tree/updater_prune.cc:101: tree pruning end, 90 extra nodes, 0 pruned nodes, max_depth=6\u001b[0m\n",
      "\u001b[34m[26]#011train-error:0.24549\u001b[0m\n",
      "\u001b[34m[21:30:38] INFO: ../src/tree/updater_prune.cc:101: tree pruning end, 48 extra nodes, 0 pruned nodes, max_depth=6\u001b[0m\n",
      "\u001b[34m[27]#011train-error:0.24514\u001b[0m\n",
      "\u001b[34m[21:30:38] INFO: ../src/tree/updater_prune.cc:101: tree pruning end, 74 extra nodes, 0 pruned nodes, max_depth=6\u001b[0m\n",
      "\u001b[34m[28]#011train-error:0.24465\u001b[0m\n",
      "\u001b[34m[21:30:38] INFO: ../src/tree/updater_prune.cc:101: tree pruning end, 80 extra nodes, 0 pruned nodes, max_depth=6\u001b[0m\n",
      "\u001b[34m[29]#011train-error:0.24427\u001b[0m\n",
      "\u001b[34m[21:30:38] INFO: ../src/tree/updater_prune.cc:101: tree pruning end, 108 extra nodes, 0 pruned nodes, max_depth=6\u001b[0m\n",
      "\u001b[34m[30]#011train-error:0.24357\u001b[0m\n",
      "\u001b[34m[21:30:38] INFO: ../src/tree/updater_prune.cc:101: tree pruning end, 108 extra nodes, 0 pruned nodes, max_depth=6\u001b[0m\n",
      "\u001b[34m[31]#011train-error:0.24298\u001b[0m\n",
      "\u001b[34m[21:30:39] INFO: ../src/tree/updater_prune.cc:101: tree pruning end, 74 extra nodes, 0 pruned nodes, max_depth=6\u001b[0m\n",
      "\u001b[34m[32]#011train-error:0.24265\u001b[0m\n",
      "\u001b[34m[21:30:39] INFO: ../src/tree/updater_prune.cc:101: tree pruning end, 90 extra nodes, 0 pruned nodes, max_depth=6\u001b[0m\n",
      "\u001b[34m[33]#011train-error:0.24243\u001b[0m\n",
      "\u001b[34m[21:30:39] INFO: ../src/tree/updater_prune.cc:101: tree pruning end, 52 extra nodes, 0 pruned nodes, max_depth=6\u001b[0m\n",
      "\u001b[34m[34]#011train-error:0.24210\u001b[0m\n",
      "\u001b[34m[21:30:39] INFO: ../src/tree/updater_prune.cc:101: tree pruning end, 62 extra nodes, 0 pruned nodes, max_depth=6\u001b[0m\n",
      "\u001b[34m[35]#011train-error:0.24184\u001b[0m\n",
      "\u001b[34m[21:30:39] INFO: ../src/tree/updater_prune.cc:101: tree pruning end, 22 extra nodes, 0 pruned nodes, max_depth=6\u001b[0m\n",
      "\u001b[34m[36]#011train-error:0.24171\u001b[0m\n",
      "\u001b[34m[21:30:39] INFO: ../src/tree/updater_prune.cc:101: tree pruning end, 32 extra nodes, 0 pruned nodes, max_depth=6\u001b[0m\n",
      "\u001b[34m[37]#011train-error:0.24165\u001b[0m\n",
      "\u001b[34m[21:30:39] INFO: ../src/tree/updater_prune.cc:101: tree pruning end, 100 extra nodes, 0 pruned nodes, max_depth=6\u001b[0m\n",
      "\u001b[34m[38]#011train-error:0.24131\u001b[0m\n",
      "\u001b[34m[21:30:39] INFO: ../src/tree/updater_prune.cc:101: tree pruning end, 36 extra nodes, 0 pruned nodes, max_depth=6\u001b[0m\n",
      "\u001b[34m[39]#011train-error:0.24106\u001b[0m\n",
      "\u001b[34m[21:30:39] INFO: ../src/tree/updater_prune.cc:101: tree pruning end, 98 extra nodes, 0 pruned nodes, max_depth=6\u001b[0m\n",
      "\u001b[34m[40]#011train-error:0.24075\u001b[0m\n",
      "\u001b[34m[21:30:39] INFO: ../src/tree/updater_prune.cc:101: tree pruning end, 66 extra nodes, 0 pruned nodes, max_depth=6\u001b[0m\n",
      "\u001b[34m[41]#011train-error:0.24022\u001b[0m\n",
      "\u001b[34m[21:30:39] INFO: ../src/tree/updater_prune.cc:101: tree pruning end, 86 extra nodes, 0 pruned nodes, max_depth=6\u001b[0m\n",
      "\u001b[34m[42]#011train-error:0.23982\u001b[0m\n",
      "\u001b[34m[21:30:39] INFO: ../src/tree/updater_prune.cc:101: tree pruning end, 100 extra nodes, 0 pruned nodes, max_depth=6\u001b[0m\n",
      "\u001b[34m[43]#011train-error:0.23943\u001b[0m\n",
      "\u001b[34m[21:30:39] INFO: ../src/tree/updater_prune.cc:101: tree pruning end, 36 extra nodes, 0 pruned nodes, max_depth=6\u001b[0m\n",
      "\u001b[34m[44]#011train-error:0.23935\u001b[0m\n",
      "\u001b[34m[21:30:39] INFO: ../src/tree/updater_prune.cc:101: tree pruning end, 74 extra nodes, 0 pruned nodes, max_depth=6\u001b[0m\n",
      "\u001b[34m[45]#011train-error:0.23900\u001b[0m\n",
      "\u001b[34m[21:30:39] INFO: ../src/tree/updater_prune.cc:101: tree pruning end, 98 extra nodes, 0 pruned nodes, max_depth=6\u001b[0m\n",
      "\u001b[34m[46]#011train-error:0.23831\u001b[0m\n",
      "\u001b[34m[21:30:39] INFO: ../src/tree/updater_prune.cc:101: tree pruning end, 44 extra nodes, 0 pruned nodes, max_depth=6\u001b[0m\n",
      "\u001b[34m[47]#011train-error:0.23804\u001b[0m\n",
      "\u001b[34m[21:30:39] INFO: ../src/tree/updater_prune.cc:101: tree pruning end, 48 extra nodes, 0 pruned nodes, max_depth=6\u001b[0m\n",
      "\u001b[34m[48]#011train-error:0.23812\u001b[0m\n",
      "\u001b[34m[21:30:39] INFO: ../src/tree/updater_prune.cc:101: tree pruning end, 86 extra nodes, 0 pruned nodes, max_depth=6\u001b[0m\n",
      "\u001b[34m[49]#011train-error:0.23780\u001b[0m\n",
      "\n",
      "2025-04-05 21:31:01 Completed - Training job completed\n",
      "Training seconds: 125\n",
      "Billable seconds: 125\n"
     ]
    }
   ],
   "source": [
    "import pandas as pd\n",
    "import numpy as np\n",
    "import boto3\n",
    "import sagemaker\n",
    "from sagemaker import get_execution_role\n",
    "from sagemaker.inputs import TrainingInput\n",
    "from sagemaker.estimator import Estimator\n",
    "import io\n",
    "\n",
    "# Step 1: Setup\n",
    "role = get_execution_role()\n",
    "region = boto3.session.Session().region_name\n",
    "session = sagemaker.Session()\n",
    "bucket = \"cardiovale-solutions-datascience-pipeline\"\n",
    "train_key = \"xgb/manual/train/train.csv\"\n",
    "\n",
    "# Step 2: Load data with extreme validation\n",
    "s3_client = boto3.client(\"s3\")\n",
    "source_key = \"feature-store/cardio/cardio-feature-group-22-21-14-34/autopilot_input.csv\"\n",
    "response = s3_client.get_object(Bucket=bucket, Key=source_key)\n",
    "df = pd.read_csv(response[\"Body\"])\n",
    "\n",
    "# Step 3: Nuclear option for label cleaning\n",
    "print(\"Original label distribution:\")\n",
    "print(df[\"cardio\"].value_counts())\n",
    "\n",
    "# Convert to numeric, drop NA, then force binary\n",
    "df[\"cardio\"] = pd.to_numeric(df[\"cardio\"], errors=\"coerce\")\n",
    "df = df.dropna(subset=[\"cardio\"])\n",
    "df[\"cardio\"] = np.where(df[\"cardio\"] > 0.5, 1, 0).astype(int) \n",
    "\n",
    "# Final validation\n",
    "assert set(df[\"cardio\"].unique()) == {0, 1}, f\"Invalid labels found: {df['cardio'].unique()}\"\n",
    "print(\"Final label distribution:\")\n",
    "print(df[\"cardio\"].value_counts())\n",
    "\n",
    "# Step 4: Prepare features\n",
    "df = df.select_dtypes(include=[np.number])\n",
    "df = df.replace([np.inf, -np.inf], np.nan).dropna()\n",
    "\n",
    "# Step 5: Move label to last position\n",
    "label_col = \"cardio\"\n",
    "cols = [c for c in df.columns if c != label_col] + [label_col]\n",
    "df = df[cols]\n",
    "\n",
    "# Ensure label is the first column (required for CSV with no header)\n",
    "label_col = \"cardio\"\n",
    "cols = [label_col] + [col for col in df.columns if col != label_col]\n",
    "df = df[cols]\n",
    "\n",
    "# Step 6: Create train/test split\n",
    "train_df = df.sample(frac=0.7, random_state=42)\n",
    "test_df = df.drop(train_df.index)\n",
    "print(f\"Split complete - Train: {train_df.shape}, Test: {test_df.shape}\")\n",
    "\n",
    "# Step 7: Save to CSV with explicit formatting\n",
    "csv_buffer = io.StringIO()\n",
    "train_df.to_csv(csv_buffer, index=False, header=False, float_format=\"%.6f\")\n",
    "csv_content = csv_buffer.getvalue()\n",
    "\n",
    "# Verify the last column\n",
    "last_col_vals = [row.split(\",\")[-1].strip() for row in csv_content.split(\"\\n\") if row]\n",
    "print(f\"Last column sample values: {set(last_col_vals[:100])}\")\n",
    "\n",
    "# Upload with proper content type\n",
    "s3_client.put_object(\n",
    "    Bucket=bucket,\n",
    "    Key=train_key,\n",
    "    Body=csv_content,\n",
    "    ContentType=\"text/csv\"\n",
    ")\n",
    "\n",
    "# Step 8: Configure training\n",
    "xgboost_container = sagemaker.image_uris.retrieve(\"xgboost\", region, \"1.2-2\")  \n",
    "\n",
    "xgb_estimator = Estimator(\n",
    "    image_uri=xgboost_container,\n",
    "    role=role,\n",
    "    instance_count=1,\n",
    "    instance_type=\"ml.m5.large\",\n",
    "    output_path=f\"s3://{bucket}/xgb/manual/output/\",\n",
    "    sagemaker_session=session,\n",
    "    base_job_name=\"cardio-xgboost-final\"\n",
    ")\n",
    "\n",
    "# Simplified hyperparameters\n",
    "xgb_estimator.set_hyperparameters(\n",
    "    objective=\"binary:logistic\",\n",
    "    num_round=50,\n",
    "    eval_metric=\"error\",\n",
    "    verbosity=2  # Increased logging\n",
    ")\n",
    "\n",
    "# Step 9: Train with File mode\n",
    "print(\"Starting training with verified data...\")\n",
    "xgb_estimator.fit(\n",
    "    {\"train\": TrainingInput(\n",
    "        f\"s3://{bucket}/{train_key}\",\n",
    "        content_type=\"text/csv\",\n",
    "        input_mode=\"File\",\n",
    "        distribution=\"ShardedByS3Key\"  # Better for large files\n",
    "    )},\n",
    "    wait=True,\n",
    "    logs=True\n",
    ")"
   ]
  },
  {
   "cell_type": "code",
   "execution_count": 7,
   "id": "b1b7c84d-5948-462a-af2d-3cf822d8afa2",
   "metadata": {},
   "outputs": [
    {
     "data": {
      "text/html": [
       "<pre style=\"white-space:pre;overflow-x:auto;line-height:normal;font-family:Menlo,'DejaVu Sans Mono',consolas,'Courier New',monospace\"><span style=\"color: #7fbfbf; text-decoration-color: #7fbfbf\">[04/05/25 21:38:13] </span><span style=\"color: #0069ff; text-decoration-color: #0069ff; font-weight: bold\">INFO    </span> Creating model with name: cardio-xgboost-final-<span style=\"color: #008080; text-decoration-color: #008080; font-weight: bold\">2025</span>-04-05-21-38-13-629 <a href=\"file:///opt/conda/lib/python3.11/site-packages/sagemaker/session.py\" target=\"_blank\"><span style=\"color: #7f7f7f; text-decoration-color: #7f7f7f\">session.py</span></a><span style=\"color: #7f7f7f; text-decoration-color: #7f7f7f\">:</span><a href=\"file:///opt/conda/lib/python3.11/site-packages/sagemaker/session.py#4094\" target=\"_blank\"><span style=\"color: #7f7f7f; text-decoration-color: #7f7f7f\">4094</span></a>\n",
       "</pre>\n"
      ],
      "text/plain": [
       "\u001b[2;36m[04/05/25 21:38:13]\u001b[0m\u001b[2;36m \u001b[0m\u001b[1;38;2;0;105;255mINFO    \u001b[0m Creating model with name: cardio-xgboost-final-\u001b[1;36m2025\u001b[0m-04-05-21-38-13-629 \u001b]8;id=471768;file:///opt/conda/lib/python3.11/site-packages/sagemaker/session.py\u001b\\\u001b[2msession.py\u001b[0m\u001b]8;;\u001b\\\u001b[2m:\u001b[0m\u001b]8;id=432771;file:///opt/conda/lib/python3.11/site-packages/sagemaker/session.py#4094\u001b\\\u001b[2m4094\u001b[0m\u001b]8;;\u001b\\\n"
      ]
     },
     "metadata": {},
     "output_type": "display_data"
    },
    {
     "data": {
      "text/html": [
       "<pre style=\"white-space:pre;overflow-x:auto;line-height:normal;font-family:Menlo,'DejaVu Sans Mono',consolas,'Courier New',monospace\"><span style=\"color: #7fbfbf; text-decoration-color: #7fbfbf\">[04/05/25 21:38:14] </span><span style=\"color: #0069ff; text-decoration-color: #0069ff; font-weight: bold\">INFO    </span> Creating endpoint-config with name                                     <a href=\"file:///opt/conda/lib/python3.11/site-packages/sagemaker/session.py\" target=\"_blank\"><span style=\"color: #7f7f7f; text-decoration-color: #7f7f7f\">session.py</span></a><span style=\"color: #7f7f7f; text-decoration-color: #7f7f7f\">:</span><a href=\"file:///opt/conda/lib/python3.11/site-packages/sagemaker/session.py#6019\" target=\"_blank\"><span style=\"color: #7f7f7f; text-decoration-color: #7f7f7f\">6019</span></a>\n",
       "<span style=\"color: #7fbfbf; text-decoration-color: #7fbfbf\">                    </span>         cardio-xgboost-final-<span style=\"color: #008080; text-decoration-color: #008080; font-weight: bold\">2025</span>-04-05-21-38-13-629                           <span style=\"color: #7f7f7f; text-decoration-color: #7f7f7f\">               </span>\n",
       "</pre>\n"
      ],
      "text/plain": [
       "\u001b[2;36m[04/05/25 21:38:14]\u001b[0m\u001b[2;36m \u001b[0m\u001b[1;38;2;0;105;255mINFO    \u001b[0m Creating endpoint-config with name                                     \u001b]8;id=488371;file:///opt/conda/lib/python3.11/site-packages/sagemaker/session.py\u001b\\\u001b[2msession.py\u001b[0m\u001b]8;;\u001b\\\u001b[2m:\u001b[0m\u001b]8;id=109401;file:///opt/conda/lib/python3.11/site-packages/sagemaker/session.py#6019\u001b\\\u001b[2m6019\u001b[0m\u001b]8;;\u001b\\\n",
       "\u001b[2;36m                    \u001b[0m         cardio-xgboost-final-\u001b[1;36m2025\u001b[0m-04-05-21-38-13-629                           \u001b[2m               \u001b[0m\n"
      ]
     },
     "metadata": {},
     "output_type": "display_data"
    },
    {
     "data": {
      "text/html": [
       "<pre style=\"white-space:pre;overflow-x:auto;line-height:normal;font-family:Menlo,'DejaVu Sans Mono',consolas,'Courier New',monospace\"><span style=\"color: #7fbfbf; text-decoration-color: #7fbfbf\">                    </span><span style=\"color: #0069ff; text-decoration-color: #0069ff; font-weight: bold\">INFO    </span> Creating endpoint with name                                            <a href=\"file:///opt/conda/lib/python3.11/site-packages/sagemaker/session.py\" target=\"_blank\"><span style=\"color: #7f7f7f; text-decoration-color: #7f7f7f\">session.py</span></a><span style=\"color: #7f7f7f; text-decoration-color: #7f7f7f\">:</span><a href=\"file:///opt/conda/lib/python3.11/site-packages/sagemaker/session.py#4841\" target=\"_blank\"><span style=\"color: #7f7f7f; text-decoration-color: #7f7f7f\">4841</span></a>\n",
       "<span style=\"color: #7fbfbf; text-decoration-color: #7fbfbf\">                    </span>         cardio-xgboost-final-<span style=\"color: #008080; text-decoration-color: #008080; font-weight: bold\">2025</span>-04-05-21-38-13-629                           <span style=\"color: #7f7f7f; text-decoration-color: #7f7f7f\">               </span>\n",
       "</pre>\n"
      ],
      "text/plain": [
       "\u001b[2;36m                   \u001b[0m\u001b[2;36m \u001b[0m\u001b[1;38;2;0;105;255mINFO    \u001b[0m Creating endpoint with name                                            \u001b]8;id=959729;file:///opt/conda/lib/python3.11/site-packages/sagemaker/session.py\u001b\\\u001b[2msession.py\u001b[0m\u001b]8;;\u001b\\\u001b[2m:\u001b[0m\u001b]8;id=855657;file:///opt/conda/lib/python3.11/site-packages/sagemaker/session.py#4841\u001b\\\u001b[2m4841\u001b[0m\u001b]8;;\u001b\\\n",
       "\u001b[2;36m                    \u001b[0m         cardio-xgboost-final-\u001b[1;36m2025\u001b[0m-04-05-21-38-13-629                           \u001b[2m               \u001b[0m\n"
      ]
     },
     "metadata": {},
     "output_type": "display_data"
    },
    {
     "name": "stdout",
     "output_type": "stream",
     "text": [
      "------!"
     ]
    }
   ],
   "source": [
    "# Deploy the trained model\n",
    "predictor = xgb_estimator.deploy(\n",
    "    initial_instance_count=1,\n",
    "    instance_type='ml.m5.large'\n",
    ")\n"
   ]
  },
  {
   "cell_type": "markdown",
   "id": "53871a16-7278-4dda-a983-11b4e1ca83d1",
   "metadata": {},
   "source": [
    "# Prepare test data"
   ]
  },
  {
   "cell_type": "code",
   "execution_count": 11,
   "id": "4a0d2694-3cc4-452b-8f67-f6d0c8f23a42",
   "metadata": {},
   "outputs": [],
   "source": [
    "import numpy as np\n",
    "import json\n",
    "from sklearn.metrics import confusion_matrix, classification_report\n",
    "\n",
    "# Step 1: Remove the label column from test set\n",
    "X_test = test_df.drop(\"cardio\", axis=1)\n",
    "y_true = test_df[\"cardio\"].values  # Save the true labels\n",
    "\n",
    "# Step 2: Convert to CSV payload\n",
    "import io\n",
    "csv_buffer = io.StringIO()\n",
    "X_test.to_csv(csv_buffer, header=False, index=False)\n",
    "csv_payload = csv_buffer.getvalue()\n"
   ]
  },
  {
   "cell_type": "markdown",
   "id": "6c373e70-a639-42b7-83ab-1dc684b74ff1",
   "metadata": {},
   "source": [
    "# Predict Using the Endpoint"
   ]
  },
  {
   "cell_type": "code",
   "execution_count": 12,
   "id": "218ccf03-b3dc-4761-a189-61624382fb53",
   "metadata": {},
   "outputs": [],
   "source": [
    "# Predict using the endpoint\n",
    "response = predictor.predict(csv_payload, initial_args={\"ContentType\": \"text/csv\"})\n"
   ]
  },
  {
   "cell_type": "markdown",
   "id": "698b62dc-b966-4d5b-b30a-242dac4d2277",
   "metadata": {},
   "source": [
    "# Step 4: Convert prediction response to binary class labels\n"
   ]
  },
  {
   "cell_type": "code",
   "execution_count": 14,
   "id": "b1331bc9-2947-4fe8-8a93-138ee2df1035",
   "metadata": {},
   "outputs": [],
   "source": [
    "# Step 4: Decode and parse line-by-line\n",
    "decoded_response = response.decode(\"utf-8\") if hasattr(response, \"decode\") else response\n",
    "y_prob = [float(x) for x in decoded_response.strip().split(\"\\n\")]\n",
    "\n",
    "# Convert probabilities to binary labels\n",
    "y_pred = [int(round(p)) for p in y_prob]"
   ]
  },
  {
   "cell_type": "markdown",
   "id": "1efb3700-e604-4d10-9b9e-c87ec980282a",
   "metadata": {},
   "source": [
    "# Evaluate with Confusion Matrix and Metrics"
   ]
  },
  {
   "cell_type": "code",
   "execution_count": 15,
   "id": "0f32f3c7-8f71-4ab8-bedc-f55341bdbfbd",
   "metadata": {},
   "outputs": [
    {
     "name": "stdout",
     "output_type": "stream",
     "text": [
      "Confusion Matrix:\n",
      " [[8117 2411]\n",
      " [3219 7253]]\n",
      "\n",
      "Classification Report:\n",
      "               precision    recall  f1-score   support\n",
      "\n",
      "           0       0.72      0.77      0.74     10528\n",
      "           1       0.75      0.69      0.72     10472\n",
      "\n",
      "    accuracy                           0.73     21000\n",
      "   macro avg       0.73      0.73      0.73     21000\n",
      "weighted avg       0.73      0.73      0.73     21000\n",
      "\n"
     ]
    }
   ],
   "source": [
    "# Step 5: Evaluate\n",
    "cm = confusion_matrix(y_true, y_pred)\n",
    "print(\"Confusion Matrix:\\n\", cm)\n",
    "\n",
    "print(\"\\nClassification Report:\\n\", classification_report(y_true, y_pred))\n"
   ]
  },
  {
   "cell_type": "markdown",
   "id": "848d3a9e-3f43-4b26-99c3-060725026c23",
   "metadata": {},
   "source": [
    "# Visualize the Confusion Matrix"
   ]
  },
  {
   "cell_type": "code",
   "execution_count": 18,
   "id": "9021a710-a7e7-41e1-aff6-c3250626266c",
   "metadata": {},
   "outputs": [
    {
     "data": {
      "image/png": "[encoded data removed]",
      "text/plain": [
       "<Figure size 600x400 with 1 Axes>"
      ]
     },
     "metadata": {},
     "output_type": "display_data"
    }
   ],
   "source": [
    "import os\n",
    "import matplotlib.pyplot as plt\n",
    "import seaborn as sns\n",
    "import numpy as np\n",
    "\n",
    "# Confusion matrix values (use your actual values here)\n",
    "cm = np.array([[8117, 2411],\n",
    "               [3219, 7253]])\n",
    "\n",
    "# Label map\n",
    "labels = np.array([[\"TP\", \"FP\"], [\"FN\", \"TN\"]])  # optional, not printed\n",
    "\n",
    "# Color map manual\n",
    "square_colors = np.array([[\"#E53935\", \"#FFFFFF\"],  # Red, White\n",
    "                          [\"#FFFFFF\", \"#000000\"]])  # White, Black\n",
    "\n",
    "# Set font and layout style\n",
    "plt.rcParams.update({\n",
    "    \"font.family\": \"serif\",\n",
    "    \"font.size\": 12,\n",
    "    \"axes.titlesize\": 14,\n",
    "    \"axes.labelsize\": 12,\n",
    "    \"xtick.labelsize\": 10,\n",
    "    \"ytick.labelsize\": 10\n",
    "})\n",
    "\n",
    "# Save directory\n",
    "save_dir = \"../images\" if os.path.exists(\"../images\") else \"images\"\n",
    "os.makedirs(save_dir, exist_ok=True)\n",
    "\n",
    "# Plot\n",
    "fig, ax = plt.subplots(figsize=(6, 4))\n",
    "\n",
    "# Plot each cell manually\n",
    "for i in range(2):\n",
    "    for j in range(2):\n",
    "        ax.add_patch(plt.Rectangle((j, i), 1, 1, color=square_colors[i, j]))\n",
    "        ax.text(j + 0.5, i + 0.5, f\"{cm[i, j]}\", va='center', ha='center',\n",
    "                color='white' if square_colors[i, j] == \"#000000\" or square_colors[i, j] == \"#E53935\" else 'black',\n",
    "                fontsize=12, fontweight='bold')\n",
    "\n",
    "# Set ticks\n",
    "ax.set_xticks([0.5, 1.5])\n",
    "ax.set_xticklabels([\"0\", \"1\"])\n",
    "ax.set_yticks([0.5, 1.5])\n",
    "ax.set_yticklabels([\"0\", \"1\"])\n",
    "\n",
    "# Labels\n",
    "ax.set_xlabel(\"Predicted\")\n",
    "ax.set_ylabel(\"Actual\")\n",
    "ax.set_title(\"Confusion Matrix of Cardiovascular Risk Prediction\", fontsize=14, fontweight='bold', pad=15)\n",
    "\n",
    "# Aesthetics\n",
    "ax.set_xlim(0, 2)\n",
    "ax.set_ylim(0, 2)\n",
    "ax.invert_yaxis()\n",
    "ax.set_aspect('equal')\n",
    "ax.tick_params(axis='both', which='both', length=0)\n",
    "\n",
    "# Save and show\n",
    "plt.tight_layout()\n",
    "plt.savefig(os.path.join(save_dir, \"confusion_matrix_custom.png\"), dpi=300, bbox_inches='tight')\n",
    "plt.show()\n"
   ]
  },
  {
   "cell_type": "markdown",
   "id": "c2bbcfb1-3cf6-4597-a5df-dd44c9a8f12e",
   "metadata": {},
   "source": [
    "# Realease Resources"
   ]
  },
  {
   "cell_type": "code",
   "execution_count": 19,
   "id": "63e562a3-30af-4a5a-882a-fd1d474225d1",
   "metadata": {},
   "outputs": [
    {
     "data": {
      "text/html": [
       "\n",
       "<p><b>Shutting down your kernel for this notebook to release resources.</b></p>\n",
       "<button class=\"sm-command-button\" data-commandlinker-command=\"kernelmenu:shutdown\" style=\"display:none;\">Shutdown Kernel</button>\n",
       "        \n",
       "<script>\n",
       "try {\n",
       "    els = document.getElementsByClassName(\"sm-command-button\");\n",
       "    els[0].click();\n",
       "}\n",
       "catch(err) {\n",
       "    // NoOp\n",
       "}    \n",
       "</script>\n"
      ],
      "text/plain": [
       "<IPython.core.display.HTML object>"
      ]
     },
     "metadata": {},
     "output_type": "display_data"
    }
   ],
   "source": [
    "%%html\n",
    "\n",
    "<p><b>Shutting down your kernel for this notebook to release resources.</b></p>\n",
    "<button class=\"sm-command-button\" data-commandlinker-command=\"kernelmenu:shutdown\" style=\"display:none;\">Shutdown Kernel</button>\n",
    "        \n",
    "<script>\n",
    "try {\n",
    "    els = document.getElementsByClassName(\"sm-command-button\");\n",
    "    els[0].click();\n",
    "}\n",
    "catch(err) {\n",
    "    // NoOp\n",
    "}    \n",
    "</script>"
   ]
  },
  {
   "cell_type": "code",
   "execution_count": null,
   "id": "01aa6cb6-c02b-4369-893c-6964c980f73f",
   "metadata": {},
   "outputs": [],
   "source": [
    "%%javascript\n",
    "\n",
    "try {\n",
    "    Jupyter.notebook.save_checkpoint();\n",
    "    Jupyter.notebook.session.delete();\n",
    "}\n",
    "catch(err) {\n",
    "    // NoOp\n",
    "}"
   ]
  },
  {
   "cell_type": "code",
   "execution_count": null,
   "id": "5ae8b13b-cfae-4694-b07d-98e15d60b450",
   "metadata": {},
   "outputs": [],
   "source": []
  }
 ],
 "metadata": {
  "kernelspec": {
   "display_name": "Python 3 (ipykernel)",
   "language": "python",
   "name": "python3"
  },
  "language_info": {
   "codemirror_mode": {
    "name": "ipython",
    "version": 3
   },
   "file_extension": ".py",
   "mimetype": "text/x-python",
   "name": "python",
   "nbconvert_exporter": "python",
   "pygments_lexer": "ipython3",
   "version": "3.11.11"
  }
 },
 "nbformat": 4,
 "nbformat_minor": 5
}
