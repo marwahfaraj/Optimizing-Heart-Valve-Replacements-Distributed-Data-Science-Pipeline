{
 "cells": [
  {
   "cell_type": "code",
   "execution_count": 2,
   "id": "1694ca59-91be-4675-8686-7813dbbed584",
   "metadata": {},
   "outputs": [
    {
     "data": {
      "text/html": [
       "<pre style=\"white-space:pre;overflow-x:auto;line-height:normal;font-family:Menlo,'DejaVu Sans Mono',consolas,'Courier New',monospace\"><span style=\"color: #7fbfbf; text-decoration-color: #7fbfbf\">[04/05/25 21:26:17] </span><span style=\"color: #0069ff; text-decoration-color: #0069ff; font-weight: bold\">INFO    </span> Creating auto-ml-job with name: cardio-autopilot-model-job             <a href=\"file:///opt/conda/lib/python3.11/site-packages/sagemaker/session.py\" target=\"_blank\"><span style=\"color: #7f7f7f; text-decoration-color: #7f7f7f\">session.py</span></a><span style=\"color: #7f7f7f; text-decoration-color: #7f7f7f\">:</span><a href=\"file:///opt/conda/lib/python3.11/site-packages/sagemaker/session.py#2604\" target=\"_blank\"><span style=\"color: #7f7f7f; text-decoration-color: #7f7f7f\">2604</span></a>\n",
       "</pre>\n"
      ],
      "text/plain": [
       "\u001b[2;36m[04/05/25 21:26:17]\u001b[0m\u001b[2;36m \u001b[0m\u001b[1;38;2;0;105;255mINFO    \u001b[0m Creating auto-ml-job with name: cardio-autopilot-model-job             \u001b]8;id=871555;file:///opt/conda/lib/python3.11/site-packages/sagemaker/session.py\u001b\\\u001b[2msession.py\u001b[0m\u001b]8;;\u001b\\\u001b[2m:\u001b[0m\u001b]8;id=521345;file:///opt/conda/lib/python3.11/site-packages/sagemaker/session.py#2604\u001b\\\u001b[2m2604\u001b[0m\u001b]8;;\u001b\\\n"
      ]
     },
     "metadata": {},
     "output_type": "display_data"
    },
    {
     "name": "stdout",
     "output_type": "stream",
     "text": [
      "...................................................................................................................................................................................................\n",
      "."
     ]
    }
   ],
   "source": [
    "from sagemaker.automl.automl import AutoML, AutoMLInput\n",
    "import sagemaker\n",
    "\n",
    "# 1. Set up SageMaker session and role\n",
    "sagemaker_session = sagemaker.Session()\n",
    "role = sagemaker.get_execution_role()\n",
    "\n",
    "# 2. S3 path to training data\n",
    "s3_input_path = \"s3://cardiovale-solutions-datascience-pipeline/feature-store/cardio/cardio-feature-group-22-21-14-34/autopilot_input.csv\"\n",
    "\n",
    "# 3. Define input object\n",
    "auto_ml_input = AutoMLInput(\n",
    "    inputs=s3_input_path,\n",
    "    target_attribute_name=\"cardio\"\n",
    ")\n",
    "\n",
    "# 4. Initialize AutoML (pass runtime and candidate settings here)\n",
    "auto_ml_job = AutoML(\n",
    "    role=role,\n",
    "    target_attribute_name=\"cardio\",\n",
    "    sagemaker_session=sagemaker_session,\n",
    "    problem_type=\"BinaryClassification\",\n",
    "    job_objective={\"MetricName\": \"F1\"},\n",
    "    max_candidates=3,\n",
    "    total_job_runtime_in_seconds=3600\n",
    ")\n",
    "\n",
    "# 5. Launch the job\n",
    "auto_ml_job_name = \"cardio-autopilot-model-job\"\n",
    "auto_ml_job.fit(\n",
    "    inputs=auto_ml_input,\n",
    "    job_name=auto_ml_job_name,\n",
    "    wait=True,\n",
    "    logs=True\n",
    ")"
   ]
  },
  {
   "cell_type": "code",
   "execution_count": 3,
   "id": "3357272f-f7a7-4021-aef5-03721501f5d8",
   "metadata": {},
   "outputs": [
    {
     "data": {
      "text/plain": [
       "{'AutoMLJobName': 'cardio-autopilot-model-job',\n",
       " 'AutoMLJobArn': 'arn:aws:sagemaker:us-east-1:424808199142:automl-job/cardio-autopilot-model-job',\n",
       " 'InputDataConfig': [{'DataSource': {'S3DataSource': {'S3DataType': 'S3Prefix',\n",
       "     'S3Uri': 's3://cardiovale-solutions-datascience-pipeline/feature-store/cardio/cardio-feature-group-22-21-14-34/autopilot_input.csv'}},\n",
       "   'TargetAttributeName': 'cardio',\n",
       "   'ContentType': 'text/csv;header=present',\n",
       "   'ChannelType': 'training'}],\n",
       " 'OutputDataConfig': {'S3OutputPath': 's3://sagemaker-us-east-1-424808199142/'},\n",
       " 'RoleArn': 'arn:aws:iam::424808199142:role/LabRole',\n",
       " 'AutoMLJobObjective': {'MetricName': 'F1'},\n",
       " 'ProblemType': 'BinaryClassification',\n",
       " 'AutoMLJobConfig': {'CompletionCriteria': {'MaxCandidates': 3,\n",
       "   'MaxAutoMLJobRuntimeInSeconds': 3600},\n",
       "  'SecurityConfig': {'EnableInterContainerTrafficEncryption': False}},\n",
       " 'CreationTime': datetime.datetime(2025, 4, 5, 21, 26, 17, 525000, tzinfo=tzlocal()),\n",
       " 'EndTime': datetime.datetime(2025, 4, 5, 21, 58, 38, 563000, tzinfo=tzlocal()),\n",
       " 'LastModifiedTime': datetime.datetime(2025, 4, 5, 21, 58, 38, 592000, tzinfo=tzlocal()),\n",
       " 'BestCandidate': {'CandidateName': 'cardio-autopilot-model-jobIRt3HM-001-0c4c84bc',\n",
       "  'FinalAutoMLJobObjectiveMetric': {'MetricName': 'validation:f1_binary',\n",
       "   'Value': 0.7216299772262573,\n",
       "   'StandardMetricName': 'F1'},\n",
       "  'ObjectiveStatus': 'Succeeded',\n",
       "  'CandidateSteps': [{'CandidateStepType': 'AWS::SageMaker::ProcessingJob',\n",
       "    'CandidateStepArn': 'arn:aws:sagemaker:us-east-1:424808199142:processing-job/cardio-autopilot-model-job-db-1-f9a3d4ec421a407cb3e75ddeeca71f9',\n",
       "    'CandidateStepName': 'cardio-autopilot-model-job-db-1-f9a3d4ec421a407cb3e75ddeeca71f9'},\n",
       "   {'CandidateStepType': 'AWS::SageMaker::TrainingJob',\n",
       "    'CandidateStepArn': 'arn:aws:sagemaker:us-east-1:424808199142:training-job/cardio-autopilot-model-job-dpp1-1-44f68bc545d843668663adb43ca88',\n",
       "    'CandidateStepName': 'cardio-autopilot-model-job-dpp1-1-44f68bc545d843668663adb43ca88'},\n",
       "   {'CandidateStepType': 'AWS::SageMaker::TransformJob',\n",
       "    'CandidateStepArn': 'arn:aws:sagemaker:us-east-1:424808199142:transform-job/cardio-autopilot-model-job-dpp1-csv-1-e7cedbd78419489db71e7595c',\n",
       "    'CandidateStepName': 'cardio-autopilot-model-job-dpp1-csv-1-e7cedbd78419489db71e7595c'},\n",
       "   {'CandidateStepType': 'AWS::SageMaker::TrainingJob',\n",
       "    'CandidateStepArn': 'arn:aws:sagemaker:us-east-1:424808199142:training-job/cardio-autopilot-model-jobIRt3HM-001-0c4c84bc',\n",
       "    'CandidateStepName': 'cardio-autopilot-model-jobIRt3HM-001-0c4c84bc'}],\n",
       "  'CandidateStatus': 'Completed',\n",
       "  'InferenceContainers': [{'Image': '683313688378.dkr.ecr.us-east-1.amazonaws.com/sagemaker-sklearn-automl:2.5-1-cpu-py3',\n",
       "    'ModelDataUrl': 's3://sagemaker-us-east-1-424808199142/cardio-autopilot-model-job/data-processor-models/cardio-autopilot-model-job-dpp1-1-44f68bc545d843668663adb43ca88/output/model.tar.gz',\n",
       "    'Environment': {'AUTOML_TRANSFORM_MODE': 'feature-transform',\n",
       "     'SAGEMAKER_DEFAULT_INVOCATIONS_ACCEPT': 'application/x-recordio-protobuf',\n",
       "     'SAGEMAKER_PROGRAM': 'sagemaker_serve',\n",
       "     'SAGEMAKER_SUBMIT_DIRECTORY': '/opt/ml/model/code'}},\n",
       "   {'Image': '683313688378.dkr.ecr.us-east-1.amazonaws.com/sagemaker-xgboost:1.3-1-cpu-py3',\n",
       "    'ModelDataUrl': 's3://sagemaker-us-east-1-424808199142/cardio-autopilot-model-job/tuning/cardio-aut-dpp1-xgb/cardio-autopilot-model-jobIRt3HM-001-0c4c84bc/output/model.tar.gz',\n",
       "    'Environment': {'MAX_CONTENT_LENGTH': '20971520',\n",
       "     'SAGEMAKER_DEFAULT_INVOCATIONS_ACCEPT': 'text/csv',\n",
       "     'SAGEMAKER_INFERENCE_OUTPUT': 'predicted_label',\n",
       "     'SAGEMAKER_INFERENCE_SUPPORTED': 'predicted_label,probability,probabilities'}},\n",
       "   {'Image': '683313688378.dkr.ecr.us-east-1.amazonaws.com/sagemaker-sklearn-automl:2.5-1-cpu-py3',\n",
       "    'ModelDataUrl': 's3://sagemaker-us-east-1-424808199142/cardio-autopilot-model-job/data-processor-models/cardio-autopilot-model-job-dpp1-1-44f68bc545d843668663adb43ca88/output/model.tar.gz',\n",
       "    'Environment': {'AUTOML_TRANSFORM_MODE': 'inverse-label-transform',\n",
       "     'SAGEMAKER_DEFAULT_INVOCATIONS_ACCEPT': 'text/csv',\n",
       "     'SAGEMAKER_INFERENCE_INPUT': 'predicted_label',\n",
       "     'SAGEMAKER_INFERENCE_OUTPUT': 'predicted_label',\n",
       "     'SAGEMAKER_INFERENCE_SUPPORTED': 'predicted_label,probability,labels,probabilities',\n",
       "     'SAGEMAKER_PROGRAM': 'sagemaker_serve',\n",
       "     'SAGEMAKER_SUBMIT_DIRECTORY': '/opt/ml/model/code'}}],\n",
       "  'CreationTime': datetime.datetime(2025, 4, 5, 21, 41, 6, tzinfo=tzlocal()),\n",
       "  'EndTime': datetime.datetime(2025, 4, 5, 21, 44, 31, tzinfo=tzlocal()),\n",
       "  'LastModifiedTime': datetime.datetime(2025, 4, 5, 21, 47, 4, 840000, tzinfo=tzlocal()),\n",
       "  'CandidateProperties': {'CandidateArtifactLocations': {'Explainability': 's3://sagemaker-us-east-1-424808199142/cardio-autopilot-model-job/documentation/explainability/output',\n",
       "    'ModelInsights': 's3://sagemaker-us-east-1-424808199142/cardio-autopilot-model-job/documentation/model_monitor/output'},\n",
       "   'CandidateMetrics': [{'MetricName': 'F1',\n",
       "     'Value': 0.7216299772262573,\n",
       "     'Set': 'Validation',\n",
       "     'StandardMetricName': 'F1'},\n",
       "    {'MetricName': 'LogLoss',\n",
       "     'Value': 0.5458999872207642,\n",
       "     'Set': 'Validation',\n",
       "     'StandardMetricName': 'LogLoss'},\n",
       "    {'MetricName': 'Recall',\n",
       "     'Value': 0.699400007724762,\n",
       "     'Set': 'Validation',\n",
       "     'StandardMetricName': 'Recall'},\n",
       "    {'MetricName': 'Precision',\n",
       "     'Value': 0.7453200221061707,\n",
       "     'Set': 'Validation',\n",
       "     'StandardMetricName': 'Precision'},\n",
       "    {'MetricName': 'AUC',\n",
       "     'Value': 0.7980999946594238,\n",
       "     'Set': 'Validation',\n",
       "     'StandardMetricName': 'AUC'},\n",
       "    {'MetricName': 'Accuracy',\n",
       "     'Value': 0.7303799986839294,\n",
       "     'Set': 'Validation',\n",
       "     'StandardMetricName': 'Accuracy'},\n",
       "    {'MetricName': 'BalancedAccuracy',\n",
       "     'Value': 0.7303599715232849,\n",
       "     'Set': 'Validation',\n",
       "     'StandardMetricName': 'BalancedAccuracy'}]}},\n",
       " 'AutoMLJobStatus': 'Completed',\n",
       " 'AutoMLJobSecondaryStatus': 'Completed',\n",
       " 'GenerateCandidateDefinitionsOnly': False,\n",
       " 'AutoMLJobArtifacts': {'CandidateDefinitionNotebookLocation': 's3://sagemaker-us-east-1-424808199142/cardio-autopilot-model-job/sagemaker-automl-candidates/cardio-autopilot-model-job-pr-1-992392fc6b1b4f51afe2b91209e4ab2/notebooks/SageMakerAutopilotCandidateDefinitionNotebook.ipynb',\n",
       "  'DataExplorationNotebookLocation': 's3://sagemaker-us-east-1-424808199142/cardio-autopilot-model-job/sagemaker-automl-candidates/cardio-autopilot-model-job-pr-1-992392fc6b1b4f51afe2b91209e4ab2/notebooks/SageMakerAutopilotDataExplorationNotebook.ipynb'},\n",
       " 'ResolvedAttributes': {'AutoMLJobObjective': {'MetricName': 'F1'},\n",
       "  'ProblemType': 'BinaryClassification',\n",
       "  'CompletionCriteria': {'MaxCandidates': 3,\n",
       "   'MaxRuntimePerTrainingJobInSeconds': 86400,\n",
       "   'MaxAutoMLJobRuntimeInSeconds': 3600}},\n",
       " 'ResponseMetadata': {'RequestId': '33a8c1ae-39f8-4597-9bcc-612c9366c282',\n",
       "  'HTTPStatusCode': 200,\n",
       "  'HTTPHeaders': {'x-amzn-requestid': '33a8c1ae-39f8-4597-9bcc-612c9366c282',\n",
       "   'content-type': 'application/x-amz-json-1.1',\n",
       "   'content-length': '5982',\n",
       "   'date': 'Sat, 05 Apr 2025 21:59:14 GMT'},\n",
       "  'RetryAttempts': 0}}"
      ]
     },
     "execution_count": 3,
     "metadata": {},
     "output_type": "execute_result"
    }
   ],
   "source": [
    "auto_ml_job.describe_auto_ml_job()"
   ]
  },
  {
   "cell_type": "code",
   "execution_count": null,
   "id": "25f693db-9255-40f2-848c-c71274a323e0",
   "metadata": {},
   "outputs": [],
   "source": []
  }
 ],
 "metadata": {
  "kernelspec": {
   "display_name": "Python 3 (ipykernel)",
   "language": "python",
   "name": "python3"
  },
  "language_info": {
   "codemirror_mode": {
    "name": "ipython",
    "version": 3
   },
   "file_extension": ".py",
   "mimetype": "text/x-python",
   "name": "python",
   "nbconvert_exporter": "python",
   "pygments_lexer": "ipython3",
   "version": "3.11.11"
  }
 },
 "nbformat": 4,
 "nbformat_minor": 5
}
