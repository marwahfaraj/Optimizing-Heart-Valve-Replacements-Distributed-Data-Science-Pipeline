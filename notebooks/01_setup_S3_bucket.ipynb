{
 "cells": [
  {
   "cell_type": "code",
   "execution_count": 1,
   "id": "31f0c8a2-ef59-420e-995e-9e88bded71fa",
   "metadata": {},
   "outputs": [
    {
     "ename": "SyntaxError",
     "evalue": "unterminated string literal (detected at line 10) (996014766.py, line 10)",
     "output_type": "error",
     "traceback": [
      "\u001b[0;36m  Cell \u001b[0;32mIn[1], line 10\u001b[0;36m\u001b[0m\n\u001b[0;31m    bucket = \"import boto3\u001b[0m\n\u001b[0m             ^\u001b[0m\n\u001b[0;31mSyntaxError\u001b[0m\u001b[0;31m:\u001b[0m unterminated string literal (detected at line 10)\n"
     ]
    }
   ],
   "source": [
    "import boto3\n",
    "import sagemaker\n",
    "\n",
    "# Initialize the SageMaker session and get the execution role.\n",
    "sagemaker_session = sagemaker.Session()\n",
    "role = sagemaker.get_execution_role()\n",
    "\n",
    "# Define your custom S3 bucket for the CardioValve project.\n",
    "# Replace the bucket name below with your chosen unique name if needed.\n",
    "bucket = \"import boto3\n",
    "print(boto3.client(\"sts\").get_caller_identity())\n",
    "\"\n",
    "region = boto3.Session().region_name\n",
    "\n",
    "# Create an S3 client for operations.\n",
    "sm = boto3.Session().client(service_name=\"sagemaker\", region_name=region)\n"
   ]
  },
  {
   "cell_type": "code",
   "execution_count": 1,
   "id": "b4d926ae-7bfc-46f5-a8fa-93c062bb4944",
   "metadata": {},
   "outputs": [
    {
     "name": "stdout",
     "output_type": "stream",
     "text": [
      "{'UserId': 'AROAWF2EKWPTN57HJGVZX:SageMaker', 'Account': '424808199142', 'Arn': 'arn:aws:sts::424808199142:assumed-role/LabRole/SageMaker', 'ResponseMetadata': {'RequestId': '7b821ad7-d025-4871-aae5-c82b90ea6cd9', 'HTTPStatusCode': 200, 'HTTPHeaders': {'x-amzn-requestid': '7b821ad7-d025-4871-aae5-c82b90ea6cd9', 'content-type': 'text/xml', 'content-length': '432', 'date': 'Sun, 30 Mar 2025 18:46:46 GMT'}, 'RetryAttempts': 0}}\n"
     ]
    }
   ],
   "source": [
    "import boto3\n",
    "print(boto3.client(\"sts\").get_caller_identity())\n"
   ]
  },
  {
   "cell_type": "code",
   "execution_count": 2,
   "id": "18499c2c-4edb-4f54-83b6-b496e15f4e96",
   "metadata": {},
   "outputs": [
    {
     "name": "stdout",
     "output_type": "stream",
     "text": [
      "make_bucket failed: s3://cardiovale-solutions-datascience-pipeline An error occurred (BucketAlreadyExists) when calling the CreateBucket operation: The requested bucket name is not available. The bucket namespace is shared by all users of the system. Please select a different name and try again.\n"
     ]
    }
   ],
   "source": [
    "# Create the S3 bucket if it doesn't already exist.\n",
    "!aws s3 mb s3://$bucket"
   ]
  },
  {
   "cell_type": "code",
   "execution_count": 3,
   "id": "c36a83c5-3bc0-47d7-aad6-f558c4ee1bf3",
   "metadata": {},
   "outputs": [
    {
     "name": "stdout",
     "output_type": "stream",
     "text": [
      "fatal error: An error occurred (404) when calling the HeadObject operation: Key \"raw-data/cardio_train.csv\" does not exist\n",
      "fatal error: An error occurred (404) when calling the HeadObject operation: Key \"raw-data/Quitline___Services_Available___Medications_-_2010_To_Present_20250306.csv\" does not exist\n"
     ]
    }
   ],
   "source": [
    "!aws s3 cp s3://cardiovale-solutions-datascience-pipeline/raw-data/cardio_train.csv /home/sagemaker-user/ads-508-team/data/\n",
    "!aws s3 cp s3://cardiovale-solutions-datascience-pipeline/raw-data/Quitline___Services_Available___Medications_-_2010_To_Present_20250306.csv /home/sagemaker-user/ads-508-team/data/\n"
   ]
  },
  {
   "cell_type": "code",
   "execution_count": 4,
   "id": "1b2b31e9-43fb-47df-917b-fa4b0b82a22e",
   "metadata": {},
   "outputs": [
    {
     "name": "stdout",
     "output_type": "stream",
     "text": [
      "make_bucket failed: s3://cardiovale-solutions-datascience-pipeline/raw-data/cardio_train/ An error occurred (BucketAlreadyExists) when calling the CreateBucket operation: The requested bucket name is not available. The bucket namespace is shared by all users of the system. Please select a different name and try again.\n",
      "make_bucket failed: s3://cardiovale-solutions-datascience-pipeline/raw-data/quitline_services/ An error occurred (BucketAlreadyExists) when calling the CreateBucket operation: The requested bucket name is not available. The bucket namespace is shared by all users of the system. Please select a different name and try again.\n"
     ]
    }
   ],
   "source": [
    "!aws s3 mb s3://cardiovale-solutions-datascience-pipeline/raw-data/cardio_train/\n",
    "!aws s3 mb s3://cardiovale-solutions-datascience-pipeline/raw-data/quitline_services/\n"
   ]
  },
  {
   "cell_type": "code",
   "execution_count": 5,
   "id": "42d6606c-2613-40eb-9d22-9edaf353c1de",
   "metadata": {},
   "outputs": [
    {
     "name": "stdout",
     "output_type": "stream",
     "text": [
      "upload: ../data/cardio_train.csv to s3://cardiovale-solutions-datascience-pipeline/raw-data/cardio_train/cardio_train.csv\n",
      "upload: ../data/Quitline___Services_Available___Medications_-_2010_To_Present_20250306.csv to s3://cardiovale-solutions-datascience-pipeline/raw-data/quitline_services/Quitline___Services_Available___Medications_-_2010_To_Present_20250306.csv\n"
     ]
    }
   ],
   "source": [
    "!aws s3 cp /home/sagemaker-user/ads-508-team/data/cardio_train.csv s3://cardiovale-solutions-datascience-pipeline/raw-data/cardio_train/\n",
    "!aws s3 cp /home/sagemaker-user/ads-508-team/data/Quitline___Services_Available___Medications_-_2010_To_Present_20250306.csv s3://cardiovale-solutions-datascience-pipeline/raw-data/quitline_services/\n"
   ]
  },
  {
   "cell_type": "code",
   "execution_count": 6,
   "id": "3a5d505f-c6c1-448e-976e-48ce0aa8075f",
   "metadata": {},
   "outputs": [
    {
     "name": "stdout",
     "output_type": "stream",
     "text": [
      "fatal error: An error occurred (404) when calling the HeadObject operation: Key \"raw-data/cardio_train_fixed.csv\" does not exist\n",
      "fatal error: An error occurred (404) when calling the HeadObject operation: Key \"raw-data/Quitline___Services_Available___Medications_-_2010_To_Present_20250306.csv\" does not exist\n"
     ]
    }
   ],
   "source": [
    "# Move the Cardio dataset to the correct folder\n",
    "!aws s3 mv s3://cardiovale-solutions-datascience-pipeline/raw-data/cardio_train_fixed.csv s3://cardiovale-solutions-datascience-pipeline/raw-data/cardio_train/cardio_train_fixed.csv\n",
    "\n",
    "# Move the Quitline dataset to the correct folder\n",
    "!aws s3 mv s3://cardiovale-solutions-datascience-pipeline/raw-data/Quitline___Services_Available___Medications_-_2010_To_Present_20250306.csv s3://cardiovale-solutions-datascience-pipeline/raw-data/quitline_services/Quitline___Services_Available___Medications_-_2010_To_Present_20250306.csv\n"
   ]
  },
  {
   "cell_type": "code",
   "execution_count": 7,
   "id": "e05e508f-3068-416b-9c37-5c3622583f24",
   "metadata": {},
   "outputs": [
    {
     "name": "stdout",
     "output_type": "stream",
     "text": [
      "2025-03-18 04:09:39        108 raw-data/Unsaved/2025/03/17/484c9471-fd67-4d25-b636-e00e45c84100.csv\n",
      "2025-03-18 04:09:39        531 raw-data/Unsaved/2025/03/17/484c9471-fd67-4d25-b636-e00e45c84100.csv.metadata\n",
      "2025-03-18 06:47:06        108 raw-data/Unsaved/2025/03/17/61039647-7075-4d0f-bac7-78379707d88c.csv\n",
      "2025-03-18 06:47:06        531 raw-data/Unsaved/2025/03/17/61039647-7075-4d0f-bac7-78379707d88c.csv.metadata\n",
      "2025-03-18 06:46:46        752 raw-data/Unsaved/2025/03/17/654150cb-4ec1-4b25-9104-54890aea6c93.csv\n",
      "2025-03-18 06:46:46        542 raw-data/Unsaved/2025/03/17/654150cb-4ec1-4b25-9104-54890aea6c93.csv.metadata\n",
      "2025-03-18 06:46:36        108 raw-data/Unsaved/2025/03/17/6682a43f-94ea-44e4-b171-b6f1fdff4bc5.csv\n",
      "2025-03-18 06:46:36        531 raw-data/Unsaved/2025/03/17/6682a43f-94ea-44e4-b171-b6f1fdff4bc5.csv.metadata\n",
      "2025-03-18 06:47:32        789 raw-data/Unsaved/2025/03/17/b9275a95-5cb2-47bc-ac79-77632106ef5b.csv\n",
      "2025-03-18 06:47:32        542 raw-data/Unsaved/2025/03/17/b9275a95-5cb2-47bc-ac79-77632106ef5b.csv.metadata\n",
      "2025-03-18 06:45:41        108 raw-data/Unsaved/2025/03/17/c0410964-9655-496a-8372-c5178c043924.csv\n",
      "2025-03-18 06:45:41        531 raw-data/Unsaved/2025/03/17/c0410964-9655-496a-8372-c5178c043924.csv.metadata\n",
      "2025-03-18 04:57:53        815 raw-data/Unsaved/2025/03/17/d8b20f72-41c5-4f03-b6f1-a116f1eb09b2.csv\n",
      "2025-03-18 04:57:53       2746 raw-data/Unsaved/2025/03/17/d8b20f72-41c5-4f03-b6f1-a116f1eb09b2.csv.metadata\n",
      "2025-03-18 04:51:22        815 raw-data/Unsaved/2025/03/17/ee3da1b3-b25b-44a0-b812-781a71eb0162.csv\n",
      "2025-03-18 04:51:22       2746 raw-data/Unsaved/2025/03/17/ee3da1b3-b25b-44a0-b812-781a71eb0162.csv.metadata\n",
      "2025-03-18 06:47:19        108 raw-data/Unsaved/2025/03/17/f13b7135-6f65-40cf-9be2-b4cf963315b7.csv\n",
      "2025-03-18 06:47:19        531 raw-data/Unsaved/2025/03/17/f13b7135-6f65-40cf-9be2-b4cf963315b7.csv.metadata\n",
      "2025-03-30 18:23:52    2941524 raw-data/cardio_train/cardio_train.csv\n",
      "2025-03-18 05:25:36    2941524 raw-data/cardio_train/cardio_train_cleaned.csv\n",
      "2025-03-18 02:45:52    2941524 raw-data/cardio_train/cardio_train_fixed.csv\n",
      "2025-03-18 06:32:27    2941524 raw-data/cardio_train_cleaned/cardio_train_cleaned.csv\n",
      "2025-03-18 06:41:37     294049 raw-data/parquet/cardio_train/gender=1/20250318_064135_00007_2bf3v_7f7fc79f-c968-48fc-833c-5d88f2a808bd\n",
      "2025-03-18 06:41:37     173827 raw-data/parquet/cardio_train/gender=2/20250318_064135_00007_2bf3v_039c8e74-46dc-4717-be92-8750d61df510\n",
      "2025-03-30 18:23:53    6934258 raw-data/quitline_services/Quitline___Services_Available___Medications_-_2010_To_Present_20250306.csv\n",
      "2025-03-18 05:07:32    7729582 raw-data/quitline_services/quitline_fixed.csv\n"
     ]
    }
   ],
   "source": [
    "!aws s3 ls s3://cardiovale-solutions-datascience-pipeline/raw-data/ --recursive\n"
   ]
  },
  {
   "cell_type": "code",
   "execution_count": 8,
   "id": "fe24b39c-d367-42f9-a940-0316518ae5db",
   "metadata": {},
   "outputs": [
    {
     "name": "stdout",
     "output_type": "stream",
     "text": [
      "                           PRE Unsaved/\n",
      "                           PRE cardio_train/\n",
      "                           PRE cardio_train_cleaned/\n",
      "                           PRE parquet/\n",
      "                           PRE quitline_services/\n"
     ]
    }
   ],
   "source": [
    "# List the contents of the newly uploaded folder to verify the files are there.\n",
    "!aws s3 ls s3://$bucket/raw-data/"
   ]
  },
  {
   "cell_type": "markdown",
   "id": "0390ad64-fd3e-47dc-8327-2a02dfd5187f",
   "metadata": {},
   "source": [
    "# Release Resources"
   ]
  },
  {
   "cell_type": "code",
   "execution_count": 9,
   "id": "c0d9f570-8385-47e2-9729-fdfb65386857",
   "metadata": {},
   "outputs": [
    {
     "data": {
      "text/html": [
       "\n",
       "<p><b>Shutting down your kernel for this notebook to release resources.</b></p>\n",
       "<button class=\"sm-command-button\" data-commandlinker-command=\"kernelmenu:shutdown\" style=\"display:none;\">Shutdown Kernel</button>\n",
       "        \n",
       "<script>\n",
       "try {\n",
       "    els = document.getElementsByClassName(\"sm-command-button\");\n",
       "    els[0].click();\n",
       "}\n",
       "catch(err) {\n",
       "    // NoOp\n",
       "}    \n",
       "</script>\n"
      ],
      "text/plain": [
       "<IPython.core.display.HTML object>"
      ]
     },
     "metadata": {},
     "output_type": "display_data"
    }
   ],
   "source": [
    "%%html\n",
    "\n",
    "<p><b>Shutting down your kernel for this notebook to release resources.</b></p>\n",
    "<button class=\"sm-command-button\" data-commandlinker-command=\"kernelmenu:shutdown\" style=\"display:none;\">Shutdown Kernel</button>\n",
    "        \n",
    "<script>\n",
    "try {\n",
    "    els = document.getElementsByClassName(\"sm-command-button\");\n",
    "    els[0].click();\n",
    "}\n",
    "catch(err) {\n",
    "    // NoOp\n",
    "}    \n",
    "</script>"
   ]
  },
  {
   "cell_type": "code",
   "execution_count": 1,
   "id": "d2686ddb-bdca-426e-91aa-6ae23e3be7a9",
   "metadata": {},
   "outputs": [
    {
     "data": {
      "application/javascript": [
       "\n",
       "try {\n",
       "    Jupyter.notebook.save_checkpoint();\n",
       "    Jupyter.notebook.session.delete();\n",
       "}\n",
       "catch(err) {\n",
       "    // NoOp\n",
       "}\n"
      ],
      "text/plain": [
       "<IPython.core.display.Javascript object>"
      ]
     },
     "metadata": {},
     "output_type": "display_data"
    }
   ],
   "source": [
    "%%javascript\n",
    "\n",
    "try {\n",
    "    Jupyter.notebook.save_checkpoint();\n",
    "    Jupyter.notebook.session.delete();\n",
    "}\n",
    "catch(err) {\n",
    "    // NoOp\n",
    "}"
   ]
  },
  {
   "cell_type": "code",
   "execution_count": null,
   "id": "545d074c-6da6-4289-9226-6754b0908869",
   "metadata": {},
   "outputs": [],
   "source": []
  }
 ],
 "metadata": {
  "kernelspec": {
   "display_name": "Python 3 (ipykernel)",
   "language": "python",
   "name": "python3"
  },
  "language_info": {
   "codemirror_mode": {
    "name": "ipython",
    "version": 3
   },
   "file_extension": ".py",
   "mimetype": "text/x-python",
   "name": "python",
   "nbconvert_exporter": "python",
   "pygments_lexer": "ipython3",
   "version": "3.11.11"
  }
 },
 "nbformat": 4,
 "nbformat_minor": 5
}
