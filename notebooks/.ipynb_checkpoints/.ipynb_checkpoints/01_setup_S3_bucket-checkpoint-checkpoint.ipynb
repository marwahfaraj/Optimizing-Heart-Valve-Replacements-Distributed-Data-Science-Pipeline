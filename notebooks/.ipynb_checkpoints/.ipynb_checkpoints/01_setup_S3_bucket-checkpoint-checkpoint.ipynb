{
 "cells": [
  {
   "cell_type": "code",
   "execution_count": 9,
   "id": "31f0c8a2-ef59-420e-995e-9e88bded71fa",
   "metadata": {},
   "outputs": [],
   "source": [
    "import boto3\n",
    "import sagemaker\n",
    "\n",
    "# Initialize the SageMaker session and get the execution role.\n",
    "sagemaker_session = sagemaker.Session()\n",
    "role = sagemaker.get_execution_role()\n",
    "\n",
    "# Define your custom S3 bucket for the CardioValve project.\n",
    "bucket = \"cardiovale-solutions-datascience-pipeline\"\n",
    "region = boto3.Session().region_name\n",
    "\n",
    "# Create an S3 client for operations.\n",
    "sm = boto3.Session().client(service_name=\"sagemaker\", region_name=region)"
   ]
  },
  {
   "cell_type": "code",
   "execution_count": 10,
   "id": "b4d926ae-7bfc-46f5-a8fa-93c062bb4944",
   "metadata": {},
   "outputs": [
    {
     "name": "stdout",
     "output_type": "stream",
     "text": [
      "{'UserId': 'AROAWF2EKWPTN57HJGVZX:SageMaker', 'Account': '424808199142', 'Arn': 'arn:aws:sts::424808199142:assumed-role/LabRole/SageMaker', 'ResponseMetadata': {'RequestId': 'ea0fea9c-621f-41cd-98ac-7d7345e13ad4', 'HTTPStatusCode': 200, 'HTTPHeaders': {'x-amzn-requestid': 'ea0fea9c-621f-41cd-98ac-7d7345e13ad4', 'content-type': 'text/xml', 'content-length': '432', 'date': 'Tue, 01 Apr 2025 02:08:36 GMT'}, 'RetryAttempts': 0}}\n"
     ]
    }
   ],
   "source": [
    "import boto3\n",
    "print(boto3.client(\"sts\").get_caller_identity())\n"
   ]
  },
  {
   "cell_type": "code",
   "execution_count": 11,
   "id": "18499c2c-4edb-4f54-83b6-b496e15f4e96",
   "metadata": {},
   "outputs": [
    {
     "name": "stdout",
     "output_type": "stream",
     "text": [
      "make_bucket: cardiovale-solutions-datascience-pipeline\n"
     ]
    }
   ],
   "source": [
    "# Create the S3 bucket if it doesn't already exist.\n",
    "!aws s3 mb s3://$bucket"
   ]
  },
  {
   "cell_type": "code",
   "execution_count": 15,
   "id": "7dfc2a9f-e6d3-4526-9403-11386b133504",
   "metadata": {},
   "outputs": [
    {
     "name": "stdout",
     "output_type": "stream",
     "text": [
      "upload: ../../data/cardio_train.csv to s3://cardiovale-solutions-datascience-pipeline/raw-data/cardio_train/cardio_train.csv\n",
      "upload: ../../data/Quitline___Services_Available___Medications_-_2010_To_Present_20250306.csv to s3://cardiovale-solutions-datascience-pipeline/raw-data/quitline_services/Quitline___Services_Available___Medications_-_2010_To_Present_20250306.csv\n"
     ]
    }
   ],
   "source": [
    "!aws s3 cp /home/sagemaker-user/ads-508-team/data/cardio_train.csv s3://cardiovale-solutions-datascience-pipeline/raw-data/cardio_train/cardio_train.csv\n",
    "\n",
    "!aws s3 cp \"/home/sagemaker-user/ads-508-team/data/Quitline___Services_Available___Medications_-_2010_To_Present_20250306.csv\" s3://cardiovale-solutions-datascience-pipeline/raw-data/quitline_services/Quitline___Services_Available___Medications_-_2010_To_Present_20250306.csv"
   ]
  },
  {
   "cell_type": "code",
   "execution_count": 16,
   "id": "bd016641-e1ec-4d1d-93f3-baef26b2b96c",
   "metadata": {},
   "outputs": [
    {
     "name": "stdout",
     "output_type": "stream",
     "text": [
      "                           PRE raw-data/\n"
     ]
    }
   ],
   "source": [
    "!aws s3 ls s3://cardiovale-solutions-datascience-pipeline/\n"
   ]
  },
  {
   "cell_type": "code",
   "execution_count": 17,
   "id": "1b2b31e9-43fb-47df-917b-fa4b0b82a22e",
   "metadata": {},
   "outputs": [
    {
     "name": "stdout",
     "output_type": "stream",
     "text": [
      "make_bucket: cardiovale-solutions-datascience-pipeline\n",
      "make_bucket: cardiovale-solutions-datascience-pipeline\n"
     ]
    }
   ],
   "source": [
    "!aws s3 mb s3://cardiovale-solutions-datascience-pipeline/raw-data/cardio_train/\n",
    "!aws s3 mb s3://cardiovale-solutions-datascience-pipeline/raw-data/quitline_services/\n"
   ]
  },
  {
   "cell_type": "code",
   "execution_count": 18,
   "id": "e05e508f-3068-416b-9c37-5c3622583f24",
   "metadata": {},
   "outputs": [
    {
     "name": "stdout",
     "output_type": "stream",
     "text": [
      "2025-04-01 02:13:07    2941524 raw-data/cardio_train/cardio_train.csv\n",
      "2025-04-01 02:13:09    6934258 raw-data/quitline_services/Quitline___Services_Available___Medications_-_2010_To_Present_20250306.csv\n"
     ]
    }
   ],
   "source": [
    "!aws s3 ls s3://cardiovale-solutions-datascience-pipeline/raw-data/ --recursive\n"
   ]
  },
  {
   "cell_type": "code",
   "execution_count": 19,
   "id": "fe24b39c-d367-42f9-a940-0316518ae5db",
   "metadata": {},
   "outputs": [
    {
     "name": "stdout",
     "output_type": "stream",
     "text": [
      "                           PRE cardio_train/\n",
      "                           PRE quitline_services/\n"
     ]
    }
   ],
   "source": [
    "# List the contents of the newly uploaded folder to verify the files are there.\n",
    "!aws s3 ls s3://$bucket/raw-data/"
   ]
  },
  {
   "cell_type": "markdown",
   "id": "0390ad64-fd3e-47dc-8327-2a02dfd5187f",
   "metadata": {},
   "source": [
    "# Release Resources"
   ]
  },
  {
   "cell_type": "code",
   "execution_count": 20,
   "id": "c0d9f570-8385-47e2-9729-fdfb65386857",
   "metadata": {},
   "outputs": [
    {
     "data": {
      "text/html": [
       "\n",
       "<p><b>Shutting down your kernel for this notebook to release resources.</b></p>\n",
       "<button class=\"sm-command-button\" data-commandlinker-command=\"kernelmenu:shutdown\" style=\"display:none;\">Shutdown Kernel</button>\n",
       "        \n",
       "<script>\n",
       "try {\n",
       "    els = document.getElementsByClassName(\"sm-command-button\");\n",
       "    els[0].click();\n",
       "}\n",
       "catch(err) {\n",
       "    // NoOp\n",
       "}    \n",
       "</script>\n"
      ],
      "text/plain": [
       "<IPython.core.display.HTML object>"
      ]
     },
     "metadata": {},
     "output_type": "display_data"
    }
   ],
   "source": [
    "%%html\n",
    "\n",
    "<p><b>Shutting down your kernel for this notebook to release resources.</b></p>\n",
    "<button class=\"sm-command-button\" data-commandlinker-command=\"kernelmenu:shutdown\" style=\"display:none;\">Shutdown Kernel</button>\n",
    "        \n",
    "<script>\n",
    "try {\n",
    "    els = document.getElementsByClassName(\"sm-command-button\");\n",
    "    els[0].click();\n",
    "}\n",
    "catch(err) {\n",
    "    // NoOp\n",
    "}    \n",
    "</script>"
   ]
  },
  {
   "cell_type": "code",
   "execution_count": 1,
   "id": "d2686ddb-bdca-426e-91aa-6ae23e3be7a9",
   "metadata": {},
   "outputs": [
    {
     "data": {
      "application/javascript": [
       "\n",
       "try {\n",
       "    Jupyter.notebook.save_checkpoint();\n",
       "    Jupyter.notebook.session.delete();\n",
       "}\n",
       "catch(err) {\n",
       "    // NoOp\n",
       "}\n"
      ],
      "text/plain": [
       "<IPython.core.display.Javascript object>"
      ]
     },
     "metadata": {},
     "output_type": "display_data"
    }
   ],
   "source": [
    "%%javascript\n",
    "\n",
    "try {\n",
    "    Jupyter.notebook.save_checkpoint();\n",
    "    Jupyter.notebook.session.delete();\n",
    "}\n",
    "catch(err) {\n",
    "    // NoOp\n",
    "}"
   ]
  },
  {
   "cell_type": "code",
   "execution_count": null,
   "id": "545d074c-6da6-4289-9226-6754b0908869",
   "metadata": {},
   "outputs": [],
   "source": []
  }
 ],
 "metadata": {
  "kernelspec": {
   "display_name": "Python 3 (ipykernel)",
   "language": "python",
   "name": "python3"
  },
  "language_info": {
   "codemirror_mode": {
    "name": "ipython",
    "version": 3
   },
   "file_extension": ".py",
   "mimetype": "text/x-python",
   "name": "python",
   "nbconvert_exporter": "python",
   "pygments_lexer": "ipython3",
   "version": "3.11.11"
  }
 },
 "nbformat": 4,
 "nbformat_minor": 5
}
